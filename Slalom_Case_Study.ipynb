{
 "cells": [
  {
   "cell_type": "code",
   "execution_count": 1,
   "metadata": {},
   "outputs": [],
   "source": [
    "import pandas as pd\n",
    "import numpy as np\n",
    "import pandas as pd\n",
    "from sklearn.pipeline import Pipeline\n",
    "from sklearn import base\n",
    "from sklearn import model_selection\n",
    "from sklearn.linear_model import LinearRegression\n",
    "from sklearn.preprocessing import RobustScaler\n",
    "from sklearn.ensemble import RandomForestRegressor\n",
    "from sklearn.linear_model import Ridge\n",
    "from pyspark import SparkConf, SparkContext\n",
    "from pyspark.sql import SQLContext\n",
    "import datetime\n",
    "import matplotlib\n",
    "import matplotlib.pyplot as plt\n",
    "import seaborn as sns\n",
    "sns.set()\n",
    "matplotlib.rcParams['figure.dpi'] = 144"
   ]
  },
  {
   "cell_type": "markdown",
   "metadata": {},
   "source": [
    "## Please note that given the data size, I have chosen simplicity over more complicated approaches to solve this problem. This implementation needs modifications as the data size grows.\n",
    "After parallelizing the data through Spark, data I decided to use Pandas to process the data further. Therefore Apache Arrow was used to increase the performance with columnar data transfer. More info at http://arrow.apache.org/blog/"
   ]
  },
  {
   "cell_type": "code",
   "execution_count": 2,
   "metadata": {
    "collapsed": true
   },
   "outputs": [],
   "source": [
    "conf = SparkConf().set(\"spark.sql.execution.arrow.enabled\", \"true\")\n",
    "sc= SparkContext(conf=conf)\n",
    "sqlContext = SQLContext(sc)"
   ]
  },
  {
   "cell_type": "markdown",
   "metadata": {},
   "source": [
    "To do further analyses, I found Pandas the most comfortable option."
   ]
  },
  {
   "cell_type": "code",
   "execution_count": 3,
   "metadata": {},
   "outputs": [
    {
     "data": {
      "text/plain": [
       "DataFrame[Store_ID: int, Fiscal_Qtr: int, DateStringYYYYMMDD: int, Fiscal_dayofWk: int, Daypart: string, HourlyWeather: string, Hour: int, AvgHourlyTemp: double, SalesRevenue: double]"
      ]
     },
     "execution_count": 3,
     "metadata": {},
     "output_type": "execute_result"
    }
   ],
   "source": [
    "sale_df = sqlContext.read.format('com.databricks.spark.csv').options(header='true', inferschema='true').load('file:///home/vagrant/datacourse/InterviewPractice/SalesbyHour.csv')\n",
    "sale_df.cache()"
   ]
  },
  {
   "cell_type": "markdown",
   "metadata": {},
   "source": [
    "To better understand the data, I charted the statistics of SalesRevenue data."
   ]
  },
  {
   "cell_type": "code",
   "execution_count": 4,
   "metadata": {},
   "outputs": [
    {
     "data": {
      "text/html": [
       "<div>\n",
       "<style>\n",
       "    .dataframe thead tr:only-child th {\n",
       "        text-align: right;\n",
       "    }\n",
       "\n",
       "    .dataframe thead th {\n",
       "        text-align: left;\n",
       "    }\n",
       "\n",
       "    .dataframe tbody tr th {\n",
       "        vertical-align: top;\n",
       "    }\n",
       "</style>\n",
       "<table border=\"1\" class=\"dataframe\">\n",
       "  <thead>\n",
       "    <tr style=\"text-align: right;\">\n",
       "      <th></th>\n",
       "      <th>0</th>\n",
       "      <th>1</th>\n",
       "      <th>2</th>\n",
       "      <th>3</th>\n",
       "      <th>4</th>\n",
       "    </tr>\n",
       "  </thead>\n",
       "  <tbody>\n",
       "    <tr>\n",
       "      <th>summary</th>\n",
       "      <td>count</td>\n",
       "      <td>mean</td>\n",
       "      <td>stddev</td>\n",
       "      <td>min</td>\n",
       "      <td>max</td>\n",
       "    </tr>\n",
       "    <tr>\n",
       "      <th>Store_ID</th>\n",
       "      <td>125792</td>\n",
       "      <td>17.39299001526329</td>\n",
       "      <td>8.563273107108882</td>\n",
       "      <td>2</td>\n",
       "      <td>38</td>\n",
       "    </tr>\n",
       "    <tr>\n",
       "      <th>Fiscal_Qtr</th>\n",
       "      <td>125792</td>\n",
       "      <td>2.3677419867718137</td>\n",
       "      <td>1.0812984094686178</td>\n",
       "      <td>1</td>\n",
       "      <td>4</td>\n",
       "    </tr>\n",
       "    <tr>\n",
       "      <th>DateStringYYYYMMDD</th>\n",
       "      <td>125792</td>\n",
       "      <td>2.0157441416353982E7</td>\n",
       "      <td>10356.963815778025</td>\n",
       "      <td>20131230</td>\n",
       "      <td>20170714</td>\n",
       "    </tr>\n",
       "    <tr>\n",
       "      <th>Fiscal_dayofWk</th>\n",
       "      <td>125792</td>\n",
       "      <td>3.8709774866446196</td>\n",
       "      <td>1.9426759659612687</td>\n",
       "      <td>1</td>\n",
       "      <td>7</td>\n",
       "    </tr>\n",
       "    <tr>\n",
       "      <th>Daypart</th>\n",
       "      <td>125792</td>\n",
       "      <td>None</td>\n",
       "      <td>None</td>\n",
       "      <td>Afternoon</td>\n",
       "      <td>Lunch</td>\n",
       "    </tr>\n",
       "    <tr>\n",
       "      <th>HourlyWeather</th>\n",
       "      <td>125792</td>\n",
       "      <td>None</td>\n",
       "      <td>None</td>\n",
       "      <td>clear-day</td>\n",
       "      <td>wind</td>\n",
       "    </tr>\n",
       "    <tr>\n",
       "      <th>Hour</th>\n",
       "      <td>125792</td>\n",
       "      <td>13.685218455863648</td>\n",
       "      <td>4.026186626380106</td>\n",
       "      <td>0</td>\n",
       "      <td>23</td>\n",
       "    </tr>\n",
       "    <tr>\n",
       "      <th>AvgHourlyTemp</th>\n",
       "      <td>125792</td>\n",
       "      <td>68.54871319320772</td>\n",
       "      <td>15.33677803893824</td>\n",
       "      <td>5.85</td>\n",
       "      <td>100.62</td>\n",
       "    </tr>\n",
       "    <tr>\n",
       "      <th>SalesRevenue</th>\n",
       "      <td>125792</td>\n",
       "      <td>118.19987550877798</td>\n",
       "      <td>98.57650967976018</td>\n",
       "      <td>-822.62</td>\n",
       "      <td>3818.51</td>\n",
       "    </tr>\n",
       "  </tbody>\n",
       "</table>\n",
       "</div>"
      ],
      "text/plain": [
       "                         0                     1                   2  \\\n",
       "summary              count                  mean              stddev   \n",
       "Store_ID            125792     17.39299001526329   8.563273107108882   \n",
       "Fiscal_Qtr          125792    2.3677419867718137  1.0812984094686178   \n",
       "DateStringYYYYMMDD  125792  2.0157441416353982E7  10356.963815778025   \n",
       "Fiscal_dayofWk      125792    3.8709774866446196  1.9426759659612687   \n",
       "Daypart             125792                  None                None   \n",
       "HourlyWeather       125792                  None                None   \n",
       "Hour                125792    13.685218455863648   4.026186626380106   \n",
       "AvgHourlyTemp       125792     68.54871319320772   15.33677803893824   \n",
       "SalesRevenue        125792    118.19987550877798   98.57650967976018   \n",
       "\n",
       "                            3         4  \n",
       "summary                   min       max  \n",
       "Store_ID                    2        38  \n",
       "Fiscal_Qtr                  1         4  \n",
       "DateStringYYYYMMDD   20131230  20170714  \n",
       "Fiscal_dayofWk              1         7  \n",
       "Daypart             Afternoon     Lunch  \n",
       "HourlyWeather       clear-day      wind  \n",
       "Hour                        0        23  \n",
       "AvgHourlyTemp            5.85    100.62  \n",
       "SalesRevenue          -822.62   3818.51  "
      ]
     },
     "execution_count": 4,
     "metadata": {},
     "output_type": "execute_result"
    }
   ],
   "source": [
    "sale_df.describe().toPandas().transpose()"
   ]
  },
  {
   "cell_type": "code",
   "execution_count": 5,
   "metadata": {
    "collapsed": true
   },
   "outputs": [],
   "source": [
    "data=sale_df.toPandas()"
   ]
  },
  {
   "cell_type": "code",
   "execution_count": 6,
   "metadata": {},
   "outputs": [
    {
     "data": {
      "text/html": [
       "<div>\n",
       "<style>\n",
       "    .dataframe thead tr:only-child th {\n",
       "        text-align: right;\n",
       "    }\n",
       "\n",
       "    .dataframe thead th {\n",
       "        text-align: left;\n",
       "    }\n",
       "\n",
       "    .dataframe tbody tr th {\n",
       "        vertical-align: top;\n",
       "    }\n",
       "</style>\n",
       "<table border=\"1\" class=\"dataframe\">\n",
       "  <thead>\n",
       "    <tr style=\"text-align: right;\">\n",
       "      <th></th>\n",
       "      <th>Store_ID</th>\n",
       "      <th>Fiscal_Qtr</th>\n",
       "      <th>DateStringYYYYMMDD</th>\n",
       "      <th>Fiscal_dayofWk</th>\n",
       "      <th>Daypart</th>\n",
       "      <th>HourlyWeather</th>\n",
       "      <th>Hour</th>\n",
       "      <th>AvgHourlyTemp</th>\n",
       "      <th>SalesRevenue</th>\n",
       "    </tr>\n",
       "  </thead>\n",
       "  <tbody>\n",
       "    <tr>\n",
       "      <th>0</th>\n",
       "      <td>2</td>\n",
       "      <td>3</td>\n",
       "      <td>20170714</td>\n",
       "      <td>5</td>\n",
       "      <td>Afternoon</td>\n",
       "      <td>rain</td>\n",
       "      <td>16</td>\n",
       "      <td>92.43</td>\n",
       "      <td>193.44</td>\n",
       "    </tr>\n",
       "    <tr>\n",
       "      <th>1</th>\n",
       "      <td>2</td>\n",
       "      <td>3</td>\n",
       "      <td>20170714</td>\n",
       "      <td>5</td>\n",
       "      <td>Afternoon</td>\n",
       "      <td>rain</td>\n",
       "      <td>14</td>\n",
       "      <td>89.56</td>\n",
       "      <td>323.84</td>\n",
       "    </tr>\n",
       "    <tr>\n",
       "      <th>2</th>\n",
       "      <td>2</td>\n",
       "      <td>3</td>\n",
       "      <td>20170714</td>\n",
       "      <td>5</td>\n",
       "      <td>Afternoon</td>\n",
       "      <td>rain</td>\n",
       "      <td>15</td>\n",
       "      <td>90.90</td>\n",
       "      <td>126.09</td>\n",
       "    </tr>\n",
       "    <tr>\n",
       "      <th>3</th>\n",
       "      <td>2</td>\n",
       "      <td>3</td>\n",
       "      <td>20170714</td>\n",
       "      <td>5</td>\n",
       "      <td>Breakfast</td>\n",
       "      <td>fog</td>\n",
       "      <td>8</td>\n",
       "      <td>77.35</td>\n",
       "      <td>154.54</td>\n",
       "    </tr>\n",
       "    <tr>\n",
       "      <th>4</th>\n",
       "      <td>2</td>\n",
       "      <td>3</td>\n",
       "      <td>20170714</td>\n",
       "      <td>5</td>\n",
       "      <td>Breakfast</td>\n",
       "      <td>partly-cloudy-day</td>\n",
       "      <td>9</td>\n",
       "      <td>79.06</td>\n",
       "      <td>89.60</td>\n",
       "    </tr>\n",
       "  </tbody>\n",
       "</table>\n",
       "</div>"
      ],
      "text/plain": [
       "   Store_ID  Fiscal_Qtr  DateStringYYYYMMDD  Fiscal_dayofWk    Daypart  \\\n",
       "0         2           3            20170714               5  Afternoon   \n",
       "1         2           3            20170714               5  Afternoon   \n",
       "2         2           3            20170714               5  Afternoon   \n",
       "3         2           3            20170714               5  Breakfast   \n",
       "4         2           3            20170714               5  Breakfast   \n",
       "\n",
       "       HourlyWeather  Hour  AvgHourlyTemp  SalesRevenue  \n",
       "0               rain    16          92.43        193.44  \n",
       "1               rain    14          89.56        323.84  \n",
       "2               rain    15          90.90        126.09  \n",
       "3                fog     8          77.35        154.54  \n",
       "4  partly-cloudy-day     9          79.06         89.60  "
      ]
     },
     "execution_count": 6,
     "metadata": {},
     "output_type": "execute_result"
    }
   ],
   "source": [
    "data.head()"
   ]
  },
  {
   "cell_type": "markdown",
   "metadata": {},
   "source": [
    "Charting the data types indicates that we have two categorical features indicated as string objects in our data set. Then it is necessary to convert them into numerical data for further analysis. However, before that to use the same data values in predicting new values, we need a dictionary to translate the categorical values to their new numerical values. This step was performed through CategoricalDict function."
   ]
  },
  {
   "cell_type": "code",
   "execution_count": 7,
   "metadata": {},
   "outputs": [
    {
     "data": {
      "text/plain": [
       "Store_ID                int64\n",
       "Fiscal_Qtr              int64\n",
       "DateStringYYYYMMDD      int64\n",
       "Fiscal_dayofWk          int64\n",
       "Daypart                object\n",
       "HourlyWeather          object\n",
       "Hour                    int64\n",
       "AvgHourlyTemp         float64\n",
       "SalesRevenue          float64\n",
       "dtype: object"
      ]
     },
     "execution_count": 7,
     "metadata": {},
     "output_type": "execute_result"
    }
   ],
   "source": [
    "data.dtypes"
   ]
  },
  {
   "cell_type": "code",
   "execution_count": 8,
   "metadata": {
    "collapsed": true
   },
   "outputs": [],
   "source": [
    "# Obtaining our Categorical translator before conversion.\n",
    "def CategoricalDict(X,col_names):\n",
    "    keys=[]\n",
    "    values=[]\n",
    "    for col in col_names:\n",
    "        values.append(X[col].astype('category').cat.codes.unique())\n",
    "        keys.append(X[col].unique())\n",
    "    return dict(zip([str(val) for sublist in keys for val in sublist], [val for sublist in values for val in sublist]))\n",
    "catDict=CategoricalDict(data,['HourlyWeather', 'Daypart'])"
   ]
  },
  {
   "cell_type": "markdown",
   "metadata": {},
   "source": [
    "I then converted the categorical string values to numerical values. (get_dummies technique could also be used but I preferred the following method for simplicity in visualization and to obtain the prediction for new variables easier.)\n",
    "Please note that this step could also be implemented at our Gridsearch pipeline but since our corr function needs our data in a numerical format, I performed this step separately. OneHotEncoder is recommend to be performed over all of our categorical data."
   ]
  },
  {
   "cell_type": "code",
   "execution_count": 9,
   "metadata": {
    "collapsed": true
   },
   "outputs": [],
   "source": [
    "# A function to convert cateorical values to numerical.\n",
    "def CategoricalTransformer(X,col_names):\n",
    "    for col in col_names:\n",
    "        X[col]= X[col].astype('category').cat.codes"
   ]
  },
  {
   "cell_type": "code",
   "execution_count": 10,
   "metadata": {
    "collapsed": true
   },
   "outputs": [],
   "source": [
    "CategoricalTransformer(data,['HourlyWeather', 'Daypart'])"
   ]
  },
  {
   "cell_type": "markdown",
   "metadata": {},
   "source": [
    "Let’s find the correlation between independent variables and the target variable.\n",
    "The result indicates that Sales Revenue has the strongest correlation with Daypart and Average Temperature among the others. Please note that although HourlyWeather had the least correlation, this does not mean we should not include it in our model unless we have to which is not the case here. \n",
    "\n",
    "### The top five predictors are:\n",
    "* Daypart\n",
    "* AvgHourlyTemp\n",
    "* Date\n",
    "* Hour\n",
    "* Fiscal_Qtr"
   ]
  },
  {
   "cell_type": "code",
   "execution_count": 11,
   "metadata": {},
   "outputs": [
    {
     "data": {
      "text/html": [
       "<div>\n",
       "<style>\n",
       "    .dataframe thead tr:only-child th {\n",
       "        text-align: right;\n",
       "    }\n",
       "\n",
       "    .dataframe thead th {\n",
       "        text-align: left;\n",
       "    }\n",
       "\n",
       "    .dataframe tbody tr th {\n",
       "        vertical-align: top;\n",
       "    }\n",
       "</style>\n",
       "<table border=\"1\" class=\"dataframe\">\n",
       "  <thead>\n",
       "    <tr style=\"text-align: right;\">\n",
       "      <th></th>\n",
       "      <th>Store_ID</th>\n",
       "      <th>Fiscal_Qtr</th>\n",
       "      <th>DateStringYYYYMMDD</th>\n",
       "      <th>Fiscal_dayofWk</th>\n",
       "      <th>Daypart</th>\n",
       "      <th>HourlyWeather</th>\n",
       "      <th>Hour</th>\n",
       "      <th>AvgHourlyTemp</th>\n",
       "      <th>SalesRevenue</th>\n",
       "    </tr>\n",
       "  </thead>\n",
       "  <tbody>\n",
       "    <tr>\n",
       "      <th>Store_ID</th>\n",
       "      <td>1.000000</td>\n",
       "      <td>-0.034316</td>\n",
       "      <td>0.381757</td>\n",
       "      <td>0.001978</td>\n",
       "      <td>-0.016085</td>\n",
       "      <td>0.045069</td>\n",
       "      <td>-0.045565</td>\n",
       "      <td>-0.061617</td>\n",
       "      <td>0.031698</td>\n",
       "    </tr>\n",
       "    <tr>\n",
       "      <th>Fiscal_Qtr</th>\n",
       "      <td>-0.034316</td>\n",
       "      <td>1.000000</td>\n",
       "      <td>-0.235690</td>\n",
       "      <td>-0.000698</td>\n",
       "      <td>-0.001142</td>\n",
       "      <td>-0.033210</td>\n",
       "      <td>-0.004150</td>\n",
       "      <td>0.252290</td>\n",
       "      <td>-0.047402</td>\n",
       "    </tr>\n",
       "    <tr>\n",
       "      <th>DateStringYYYYMMDD</th>\n",
       "      <td>0.381757</td>\n",
       "      <td>-0.235690</td>\n",
       "      <td>1.000000</td>\n",
       "      <td>-0.006231</td>\n",
       "      <td>-0.011564</td>\n",
       "      <td>0.116066</td>\n",
       "      <td>-0.030798</td>\n",
       "      <td>0.038984</td>\n",
       "      <td>0.173249</td>\n",
       "    </tr>\n",
       "    <tr>\n",
       "      <th>Fiscal_dayofWk</th>\n",
       "      <td>0.001978</td>\n",
       "      <td>-0.000698</td>\n",
       "      <td>-0.006231</td>\n",
       "      <td>1.000000</td>\n",
       "      <td>0.024729</td>\n",
       "      <td>-0.021084</td>\n",
       "      <td>0.058623</td>\n",
       "      <td>0.012291</td>\n",
       "      <td>0.020733</td>\n",
       "    </tr>\n",
       "    <tr>\n",
       "      <th>Daypart</th>\n",
       "      <td>-0.016085</td>\n",
       "      <td>-0.001142</td>\n",
       "      <td>-0.011564</td>\n",
       "      <td>0.024729</td>\n",
       "      <td>1.000000</td>\n",
       "      <td>-0.034912</td>\n",
       "      <td>0.025646</td>\n",
       "      <td>0.015433</td>\n",
       "      <td>0.269690</td>\n",
       "    </tr>\n",
       "    <tr>\n",
       "      <th>HourlyWeather</th>\n",
       "      <td>0.045069</td>\n",
       "      <td>-0.033210</td>\n",
       "      <td>0.116066</td>\n",
       "      <td>-0.021084</td>\n",
       "      <td>-0.034912</td>\n",
       "      <td>1.000000</td>\n",
       "      <td>0.078927</td>\n",
       "      <td>0.112158</td>\n",
       "      <td>0.002888</td>\n",
       "    </tr>\n",
       "    <tr>\n",
       "      <th>Hour</th>\n",
       "      <td>-0.045565</td>\n",
       "      <td>-0.004150</td>\n",
       "      <td>-0.030798</td>\n",
       "      <td>0.058623</td>\n",
       "      <td>0.025646</td>\n",
       "      <td>0.078927</td>\n",
       "      <td>1.000000</td>\n",
       "      <td>0.255642</td>\n",
       "      <td>-0.076258</td>\n",
       "    </tr>\n",
       "    <tr>\n",
       "      <th>AvgHourlyTemp</th>\n",
       "      <td>-0.061617</td>\n",
       "      <td>0.252290</td>\n",
       "      <td>0.038984</td>\n",
       "      <td>0.012291</td>\n",
       "      <td>0.015433</td>\n",
       "      <td>0.112158</td>\n",
       "      <td>0.255642</td>\n",
       "      <td>1.000000</td>\n",
       "      <td>0.221708</td>\n",
       "    </tr>\n",
       "    <tr>\n",
       "      <th>SalesRevenue</th>\n",
       "      <td>0.031698</td>\n",
       "      <td>-0.047402</td>\n",
       "      <td>0.173249</td>\n",
       "      <td>0.020733</td>\n",
       "      <td>0.269690</td>\n",
       "      <td>0.002888</td>\n",
       "      <td>-0.076258</td>\n",
       "      <td>0.221708</td>\n",
       "      <td>1.000000</td>\n",
       "    </tr>\n",
       "  </tbody>\n",
       "</table>\n",
       "</div>"
      ],
      "text/plain": [
       "                    Store_ID  Fiscal_Qtr  DateStringYYYYMMDD  Fiscal_dayofWk  \\\n",
       "Store_ID            1.000000   -0.034316            0.381757        0.001978   \n",
       "Fiscal_Qtr         -0.034316    1.000000           -0.235690       -0.000698   \n",
       "DateStringYYYYMMDD  0.381757   -0.235690            1.000000       -0.006231   \n",
       "Fiscal_dayofWk      0.001978   -0.000698           -0.006231        1.000000   \n",
       "Daypart            -0.016085   -0.001142           -0.011564        0.024729   \n",
       "HourlyWeather       0.045069   -0.033210            0.116066       -0.021084   \n",
       "Hour               -0.045565   -0.004150           -0.030798        0.058623   \n",
       "AvgHourlyTemp      -0.061617    0.252290            0.038984        0.012291   \n",
       "SalesRevenue        0.031698   -0.047402            0.173249        0.020733   \n",
       "\n",
       "                     Daypart  HourlyWeather      Hour  AvgHourlyTemp  \\\n",
       "Store_ID           -0.016085       0.045069 -0.045565      -0.061617   \n",
       "Fiscal_Qtr         -0.001142      -0.033210 -0.004150       0.252290   \n",
       "DateStringYYYYMMDD -0.011564       0.116066 -0.030798       0.038984   \n",
       "Fiscal_dayofWk      0.024729      -0.021084  0.058623       0.012291   \n",
       "Daypart             1.000000      -0.034912  0.025646       0.015433   \n",
       "HourlyWeather      -0.034912       1.000000  0.078927       0.112158   \n",
       "Hour                0.025646       0.078927  1.000000       0.255642   \n",
       "AvgHourlyTemp       0.015433       0.112158  0.255642       1.000000   \n",
       "SalesRevenue        0.269690       0.002888 -0.076258       0.221708   \n",
       "\n",
       "                    SalesRevenue  \n",
       "Store_ID                0.031698  \n",
       "Fiscal_Qtr             -0.047402  \n",
       "DateStringYYYYMMDD      0.173249  \n",
       "Fiscal_dayofWk          0.020733  \n",
       "Daypart                 0.269690  \n",
       "HourlyWeather           0.002888  \n",
       "Hour                   -0.076258  \n",
       "AvgHourlyTemp           0.221708  \n",
       "SalesRevenue            1.000000  "
      ]
     },
     "execution_count": 11,
     "metadata": {},
     "output_type": "execute_result"
    }
   ],
   "source": [
    "data.corr()"
   ]
  },
  {
   "cell_type": "markdown",
   "metadata": {},
   "source": [
    "The labels were extracted."
   ]
  },
  {
   "cell_type": "code",
   "execution_count": 12,
   "metadata": {
    "collapsed": true
   },
   "outputs": [],
   "source": [
    "y=data['SalesRevenue']\n",
    "X=data.drop(['SalesRevenue'] , axis=1)"
   ]
  },
  {
   "cell_type": "markdown",
   "metadata": {},
   "source": [
    "I decided to plot the features to better understand the correlation of them with label variable. \n",
    "As plot illustrates, the hourly temperature is correlated with the revenue. \n",
    "It is also observed that revenue varies with other features. So I decided to keep these features while training the model. I also realized there are outliers in the data so scaling features using statistics that are robust to outliers will benefit our prediction. The RobustScaler performs this task at our preprocessing step."
   ]
  },
  {
   "cell_type": "code",
   "execution_count": 13,
   "metadata": {
    "collapsed": true
   },
   "outputs": [],
   "source": [
    "data_dict=dict(zip(list(X.columns), ['Store', 'Quarter', 'Date', 'WeekDay' 'Day Part','Weather','Time','Temperature'])) "
   ]
  },
  {
   "cell_type": "code",
   "execution_count": 14,
   "metadata": {},
   "outputs": [
    {
     "data": {
      "application/vnd.jupyter.widget-view+json": {
       "model_id": "3f4b679fd2f34fdb826493e86e0f505d",
       "version_major": 2,
       "version_minor": 0
      },
      "text/html": [
       "<p>Failed to display Jupyter Widget of type <code>interactive</code>.</p>\n",
       "<p>\n",
       "  If you're reading this message in Jupyter Notebook or JupyterLab, it may mean\n",
       "  that the widgets JavaScript is still loading. If this message persists, it\n",
       "  likely means that the widgets JavaScript library is either not installed or\n",
       "  not enabled. See the <a href=\"https://ipywidgets.readthedocs.io/en/stable/user_install.html\">Jupyter\n",
       "  Widgets Documentation</a> for setup instructions.\n",
       "</p>\n",
       "<p>\n",
       "  If you're reading this message in another notebook frontend (for example, a static\n",
       "  rendering on GitHub or <a href=\"https://nbviewer.jupyter.org/\">NBViewer</a>),\n",
       "  it may mean that your frontend doesn't currently support widgets.\n",
       "</p>\n"
      ],
      "text/plain": [
       "interactive(children=(Dropdown(description=u'column', options=('Store_ID', 'Fiscal_Qtr', 'DateStringYYYYMMDD', 'Fiscal_dayofWk', 'Daypart', 'HourlyWeather', 'Hour', 'AvgHourlyTemp'), value='Store_ID'), Output()), _dom_classes=('widget-interact',))"
      ]
     },
     "metadata": {},
     "output_type": "display_data"
    }
   ],
   "source": [
    "# Plotting Values correlation with Sales using iPython Widgets.\n",
    "from ipywidgets import widgets\n",
    "\n",
    "def sales_plot(column):\n",
    "    plt.plot(X[column], y, '.')\n",
    "    plt.xlabel(data_dict[column])\n",
    "    plt.ylabel('Sales')\n",
    "    \n",
    "widgets.interact(sales_plot, column=list(X.columns));"
   ]
  },
  {
   "cell_type": "markdown",
   "metadata": {},
   "source": [
    "# Process\n",
    "With a better sense of the data, we’re now able to go through and do some analysis on the data."
   ]
  },
  {
   "cell_type": "markdown",
   "metadata": {},
   "source": [
    "# Pre-processing\n",
    "In order to run our models on the data, I had to transform many of the variables. The following pre-processing steps were taken (Some were taken prior to Gridsearch pipeline:\n",
    "* Transforming categorical data into numerical values. (already performed above)\n",
    "* Extracting labels from the dataset and dropping features with the lowest correlation. (already performed above)\n",
    "* Removing outliers and scaling data using RobustScaler\n",
    "* Cross-validation using random permutation cross-validator which outperforms K-fold by shuffling the data. This helps us to minimize overfitting. Given the size of the data, splitting data into training and testing sets with a ration of 4 to 1 makes sense. \n",
    "\n",
    "This is worth mentioning that using OneHotEncoding is strongly recommended given many of our features are categorical. However, since our selected RandomForest model does not need much of feature engineering, I decided to leave this for future. To note, the recommended step after OneHotEncoding of features with a variety of values is to apply a dimension reduction technique similar to PCA!"
   ]
  },
  {
   "cell_type": "code",
   "execution_count": 15,
   "metadata": {
    "collapsed": true
   },
   "outputs": [],
   "source": [
    "cv=model_selection.ShuffleSplit(n_splits=5, test_size=0.2) "
   ]
  },
  {
   "cell_type": "markdown",
   "metadata": {},
   "source": [
    "# Models\n",
    "I fit the data against multiple models with different parameters. The models I tested include:\n",
    "    * Ridge Regression\n",
    "    * Linear Regression\n",
    "    * Random Forest\n",
    "    * Residual Model\n",
    "    \n",
    "Pipeline for each of the above models are included at below, and the R^2 score of each is obtained to measure how well the model explains the X variables.\n",
    "\n",
    "It is worth mentioning that in residual estimator, I used a linear model to fit the linear part of the data, and used a non-linear model to fit the residual that the linear model can't fit. This estimator takes Ridge and RandomForest estimators. It uses the first to fit the raw data and the second to fit the residuals of the first."
   ]
  },
  {
   "cell_type": "code",
   "execution_count": 16,
   "metadata": {
    "collapsed": true
   },
   "outputs": [],
   "source": [
    "# Linear least squares with l2 regularization.\n",
    "Ridge_pipe = Pipeline([\n",
    "    ('scaler', RobustScaler()),\n",
    "    ('LinearModel', Ridge())\n",
    "    ])\n",
    "Ridge_param_grid={'LinearModel__alpha': np.linspace(0,15,16)} #Regularization strength, Gridsearch will find the best \n",
    "                                                                #parameter and will use it to train the model.\n",
    "\n",
    "Ridge_GridResult = model_selection.GridSearchCV(Ridge_pipe, \n",
    "                                          param_grid=Ridge_param_grid, \n",
    "                                          n_jobs=4, # run each hyperparameter in one of two parallel jobs\n",
    "                                          cv=cv, #Random permutation cross-validator\n",
    "                                         )"
   ]
  },
  {
   "cell_type": "code",
   "execution_count": 17,
   "metadata": {},
   "outputs": [],
   "source": [
    "# Ordinary least squares Linear Regression.\n",
    "LR_pipe = Pipeline([\n",
    "    ('scaler', RobustScaler()),\n",
    "    ('LinearModel', LinearRegression())\n",
    "    ])\n",
    "LR_param_grid={'LinearModel__normalize': [True]} #Regularization strength\n",
    "\n",
    "LR_GridResult = model_selection.GridSearchCV(LR_pipe, \n",
    "                                          param_grid=LR_param_grid, \n",
    "                                          n_jobs=4, # run each hyperparameter in one of two parallel jobs\n",
    "                                          cv=cv, #Random permutation cross-validator\n",
    "                                         )"
   ]
  },
  {
   "cell_type": "code",
   "execution_count": 18,
   "metadata": {
    "collapsed": true
   },
   "outputs": [],
   "source": [
    "# A random forest regressor.\n",
    "RF_pipe = Pipeline([\n",
    "    ('scaler', RobustScaler()),\n",
    "    ('LinearModel', RandomForestRegressor())\n",
    "    ])\n",
    "RF_param_grid={'LinearModel__min_samples_leaf':[1]} #I hardcoded this parameter as it maximized the accuracy\n",
    "                                                    #the downside is it increases the coputation time.\n",
    "\n",
    "RF_GridResult = model_selection.GridSearchCV(RF_pipe, \n",
    "                                          param_grid=RF_param_grid, \n",
    "                                          n_jobs=4, # run each hyperparameter in one of two parallel jobs\n",
    "                                          cv=cv, #Random permutation cross-validator\n",
    "                                         )"
   ]
  },
  {
   "cell_type": "code",
   "execution_count": 20,
   "metadata": {
    "collapsed": true
   },
   "outputs": [],
   "source": [
    "class ResidualEstimator(base.BaseEstimator, base.RegressorMixin):\n",
    "    \n",
    "    def __init__(self, linear, nonlinear):\n",
    "        self.linear = linear\n",
    "        self.nonlinear = nonlinear\n",
    "        return None\n",
    "    \n",
    "    def fit(self, X, y=None):\n",
    "        self.linear.fit(X, y)\n",
    "        residuals = y - self.linear.predict(X)\n",
    "        self.nonlinear.fit(X, residuals)\n",
    "        return self #fit always returns self\n",
    "    \n",
    "    def predict(self, data):\n",
    "        return self.nonlinear.predict(data) + self.linear.predict(data)"
   ]
  },
  {
   "cell_type": "code",
   "execution_count": 21,
   "metadata": {},
   "outputs": [],
   "source": [
    "# Residual Estimator\n",
    "non_linear=RandomForestRegressor()\n",
    "linear=Ridge()\n",
    "residEstim=ResidualEstimator(linear,non_linear)\n",
    "\n",
    "RM_pipe = Pipeline([\n",
    "    ('Model', ResidualEstimator(linear,non_linear))\n",
    "    ])\n",
    "RM_grid={'Model__nonlinear__min_samples_leaf':[1],\n",
    "            'Model__linear__alpha': np.linspace(0,1,15)\n",
    "           #\"LinearModel__max_depth\": range(1,11)\n",
    "           }\n",
    "\n",
    "RM_GridResult = model_selection.GridSearchCV(RM_pipe, \n",
    "                                          param_grid=RM_grid, \n",
    "                                          n_jobs=4, # run each hyperparameter in one of two parallel jobs\n",
    "                                          cv=cv, #Random permutation cross-validator\n",
    "                                         )"
   ]
  },
  {
   "cell_type": "code",
   "execution_count": 22,
   "metadata": {
    "collapsed": true
   },
   "outputs": [],
   "source": [
    "Ridge_est=Ridge_GridResult.fit(X, y)\n",
    "LR_est=LR_GridResult.fit(X, y)\n",
    "RF_est=RF_GridResult.fit(X, y)\n",
    "RM_est=RM_GridResult.fit(X, y)"
   ]
  },
  {
   "cell_type": "markdown",
   "metadata": {},
   "source": [
    "### Scores indicate that our RandomForest model outperforms the  compare to the other models. "
   ]
  },
  {
   "cell_type": "code",
   "execution_count": 23,
   "metadata": {},
   "outputs": [
    {
     "name": "stdout",
     "output_type": "stream",
     "text": [
      "R^2 of Ridge estimator:  0.174075898218\n",
      "R^2 of Linear Regression estimator:  0.174075915739\n",
      "R^2 of RandomForest estimator:  0.924128358436\n",
      "R^2 of Residual estimator:  0.927526228409\n"
     ]
    }
   ],
   "source": [
    "print \"R^2 of Ridge estimator: \", Ridge_est.score(X, y) \n",
    "print \"R^2 of Linear Regression estimator: \", LR_est.score(X, y)\n",
    "print \"R^2 of RandomForest estimator: \", RF_est.score(X, y)\n",
    "print \"R^2 of Residual estimator: \", RM_est.score(X, y)"
   ]
  },
  {
   "cell_type": "markdown",
   "metadata": {},
   "source": [
    "Our RandomForest model was selected to predict the total sales revenue of all stores on 2017-07-15.\n",
    "At first, we need to create new values in a Panda friendly format and then feed them into our model to predict the total revenue."
   ]
  },
  {
   "cell_type": "code",
   "execution_count": 24,
   "metadata": {},
   "outputs": [],
   "source": [
    "def final_prediction_data():\n",
    "    listofdata=[]\n",
    "    for store in range (1,15):\n",
    "        listofdata.append([store, 3, 20170715, datetime.datetime(2017, 07, 15).weekday(), catDict['Lunch'], catDict['clear-day'], 12, 86])\n",
    "    return (listofdata)"
   ]
  },
  {
   "cell_type": "code",
   "execution_count": 25,
   "metadata": {},
   "outputs": [
    {
     "name": "stdout",
     "output_type": "stream",
     "text": [
      "Sales revenue of each store on 2017/07/15: [ 375.605  375.605  375.605  375.605  375.605  375.605  189.679  189.679\n",
      "  189.679  189.679  189.679  189.679  189.679  176.744]\n",
      "Total sales revenue of all 14 stores on 2017/07/15: 3758.127\n"
     ]
    }
   ],
   "source": [
    "print \"Sales revenue of each store on 2017/07/15:\", RF_est.predict(np.array(final_prediction_data()))\n",
    "print \"Total sales revenue of all 14 stores on 2017/07/15:\",sum(RF_est.predict(np.array(final_prediction_data())))"
   ]
  },
  {
   "cell_type": "markdown",
   "metadata": {},
   "source": [
    "### Our model predicted the total sales revenue of all 14 stores on 2017/07/15: 3758.127"
   ]
  }
 ],
 "metadata": {
  "kernelspec": {
   "display_name": "Python 2",
   "language": "python",
   "name": "python2"
  },
  "language_info": {
   "codemirror_mode": {
    "name": "ipython",
    "version": 2
   },
   "file_extension": ".py",
   "mimetype": "text/x-python",
   "name": "python",
   "nbconvert_exporter": "python",
   "pygments_lexer": "ipython2",
   "version": "2.7.15"
  },
  "widgets": {
   "application/vnd.jupyter.widget-state+json": {
    "state": {
     "06c60f5f91db47ad858ad79f98117b80": {
      "model_module": "@jupyter-widgets/controls",
      "model_module_version": "1.0.0",
      "model_name": "DescriptionStyleModel",
      "state": {
       "description_width": ""
      }
     },
     "098bef7436954c4a854f0a3c3231dc8c": {
      "model_module": "@jupyter-widgets/controls",
      "model_module_version": "1.0.0",
      "model_name": "DescriptionStyleModel",
      "state": {
       "description_width": ""
      }
     },
     "0a5bdccd23594a05b5d72b29b5c9f15b": {
      "model_module": "@jupyter-widgets/controls",
      "model_module_version": "1.0.0",
      "model_name": "DescriptionStyleModel",
      "state": {
       "description_width": ""
      }
     },
     "0acea3221f9c41ceaa20689a437d2de4": {
      "model_module": "@jupyter-widgets/controls",
      "model_module_version": "1.0.0",
      "model_name": "DescriptionStyleModel",
      "state": {
       "description_width": ""
      }
     },
     "1245cdd99f2f45758679dfc077a42f8d": {
      "model_module": "@jupyter-widgets/controls",
      "model_module_version": "1.0.0",
      "model_name": "DescriptionStyleModel",
      "state": {
       "description_width": ""
      }
     },
     "130c4f9a2a7144048f9856208e9528f1": {
      "model_module": "@jupyter-widgets/controls",
      "model_module_version": "1.0.0",
      "model_name": "DropdownModel",
      "state": {
       "_options_labels": [
        "Store_ID",
        "Fiscal_Qtr",
        "DateStringYYYYMMDD",
        "Fiscal_dayofWk",
        "Daypart",
        "HourlyWeather",
        "Hour",
        "AvgHourlyTemp",
        "SalesRevenue"
       ],
       "description": "column",
       "index": 0,
       "layout": "IPY_MODEL_ee45b9410b6b4066816c6ad0f79d8325",
       "style": "IPY_MODEL_76031105c765478e81ec4a40d6b0c69e"
      }
     },
     "20d24018879d4e3790e9e437318a0583": {
      "model_module": "@jupyter-widgets/controls",
      "model_module_version": "1.0.0",
      "model_name": "DropdownModel",
      "state": {
       "_options_labels": [
        "Store_ID",
        "Fiscal_Qtr",
        "DateStringYYYYMMDD",
        "Fiscal_dayofWk",
        "Daypart",
        "HourlyWeather",
        "Hour",
        "AvgHourlyTemp",
        "SalesRevenue"
       ],
       "description": "column",
       "index": 0,
       "layout": "IPY_MODEL_ed908cacd5ed424bb694e229d0ed673e",
       "style": "IPY_MODEL_e5c7230a54154a4593b503d5b5823ac1"
      }
     },
     "236fa1eef58146ce8bca28c751d52eda": {
      "model_module": "@jupyter-widgets/controls",
      "model_module_version": "1.0.0",
      "model_name": "VBoxModel",
      "state": {
       "_dom_classes": [
        "widget-interact"
       ],
       "children": [
        "IPY_MODEL_130c4f9a2a7144048f9856208e9528f1",
        "IPY_MODEL_b837e3ab5fb2440fa454b82b07d39d07"
       ],
       "layout": "IPY_MODEL_890db05ff3774e5f8279b079717d2fc8"
      }
     },
     "2a0f30bb041d46e595bdc81890ffccc9": {
      "model_module": "@jupyter-widgets/output",
      "model_module_version": "1.0.0",
      "model_name": "OutputModel",
      "state": {
       "layout": "IPY_MODEL_76d3b7126211408083a94977ba9c1ce4",
       "outputs": [
        {
         "data": {
          "image/png": "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\n",
          "text/plain": "<matplotlib.figure.Figure at 0x7f05a33e6990>"
         },
         "metadata": {},
         "output_type": "display_data"
        }
       ]
      }
     },
     "2a1cce157be848249c43fe5009ed07dc": {
      "model_module": "@jupyter-widgets/output",
      "model_module_version": "1.0.0",
      "model_name": "OutputModel",
      "state": {
       "layout": "IPY_MODEL_bab96bea744742b69f4fed3f11f06423",
       "outputs": [
        {
         "data": {
          "image/png": "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\n",
          "text/plain": "<matplotlib.figure.Figure at 0x7f2c4bc58090>"
         },
         "metadata": {},
         "output_type": "display_data"
        }
       ]
      }
     },
     "2a21053ecc50410586600a1cc960110b": {
      "model_module": "@jupyter-widgets/controls",
      "model_module_version": "1.0.0",
      "model_name": "VBoxModel",
      "state": {
       "_dom_classes": [
        "widget-interact"
       ],
       "children": [
        "IPY_MODEL_929e2c10de01436fb0d2dd5ed0459599",
        "IPY_MODEL_a2d376c6215e4648bbaef9bcb06a3f84"
       ],
       "layout": "IPY_MODEL_c5834fabda2745738f47a97963f918ac"
      }
     },
     "32ca395035f64733adcf8e87aad9fb26": {
      "model_module": "@jupyter-widgets/controls",
      "model_module_version": "1.0.0",
      "model_name": "VBoxModel",
      "state": {
       "_dom_classes": [
        "widget-interact"
       ],
       "children": [
        "IPY_MODEL_cb7610d3b40d4c57a9da17fb9f340cd7",
        "IPY_MODEL_2a0f30bb041d46e595bdc81890ffccc9"
       ],
       "layout": "IPY_MODEL_af1254cb927d4d01a99425aef7116584"
      }
     },
     "35fb21cb40904e79a9ff3b9a86fc1182": {
      "model_module": "@jupyter-widgets/controls",
      "model_module_version": "1.0.0",
      "model_name": "VBoxModel",
      "state": {
       "_dom_classes": [
        "widget-interact"
       ],
       "children": [
        "IPY_MODEL_695e9cbbba6249b08fbd9a3d6fb87f5d",
        "IPY_MODEL_bd3a379247c34ff4a108137467a26e30"
       ],
       "layout": "IPY_MODEL_d96f6ff243834b7c99439bf8d3887b44"
      }
     },
     "40b28c32dc534871af8198b1fd420086": {
      "model_module": "@jupyter-widgets/controls",
      "model_module_version": "1.0.0",
      "model_name": "VBoxModel",
      "state": {
       "_dom_classes": [
        "widget-interact"
       ],
       "children": [
        "IPY_MODEL_6398f2fa14e244e0ab12e1016286c173",
        "IPY_MODEL_2a1cce157be848249c43fe5009ed07dc"
       ],
       "layout": "IPY_MODEL_a5164f01a4084c5e9d7f457932240818"
      }
     },
     "41b966b138c440779129e08dce11e8c6": {
      "model_module": "@jupyter-widgets/base",
      "model_module_version": "1.0.0",
      "model_name": "LayoutModel",
      "state": {}
     },
     "43768ed8dd584e6480b73efd1fa5e4cc": {
      "model_module": "@jupyter-widgets/controls",
      "model_module_version": "1.0.0",
      "model_name": "DescriptionStyleModel",
      "state": {
       "description_width": ""
      }
     },
     "43d96b7de33c4cfdb34edd9219f14507": {
      "model_module": "@jupyter-widgets/base",
      "model_module_version": "1.0.0",
      "model_name": "LayoutModel",
      "state": {}
     },
     "45b295d8d1884e438bd7ac97260c6017": {
      "model_module": "@jupyter-widgets/output",
      "model_module_version": "1.0.0",
      "model_name": "OutputModel",
      "state": {
       "layout": "IPY_MODEL_ae0cdcb45a22494aa5fb7e08239e395b",
       "outputs": [
        {
         "ename": "NameError",
         "evalue": "global name 'plt' is not defined",
         "output_type": "error",
         "traceback": [
          "\u001b[0;31m---------------------------------------------------------------------------\u001b[0m",
          "\u001b[0;31mNameError\u001b[0m                                 Traceback (most recent call last)",
          "\u001b[0;32m/opt/conda/lib/python2.7/site-packages/ipywidgets/widgets/interaction.pyc\u001b[0m in \u001b[0;36mupdate\u001b[0;34m(self, *args)\u001b[0m\n\u001b[1;32m    248\u001b[0m                     \u001b[0mvalue\u001b[0m \u001b[0;34m=\u001b[0m \u001b[0mwidget\u001b[0m\u001b[0;34m.\u001b[0m\u001b[0mget_interact_value\u001b[0m\u001b[0;34m(\u001b[0m\u001b[0;34m)\u001b[0m\u001b[0;34m\u001b[0m\u001b[0m\n\u001b[1;32m    249\u001b[0m                     \u001b[0mself\u001b[0m\u001b[0;34m.\u001b[0m\u001b[0mkwargs\u001b[0m\u001b[0;34m[\u001b[0m\u001b[0mwidget\u001b[0m\u001b[0;34m.\u001b[0m\u001b[0m_kwarg\u001b[0m\u001b[0;34m]\u001b[0m \u001b[0;34m=\u001b[0m \u001b[0mvalue\u001b[0m\u001b[0;34m\u001b[0m\u001b[0m\n\u001b[0;32m--> 250\u001b[0;31m                 \u001b[0mself\u001b[0m\u001b[0;34m.\u001b[0m\u001b[0mresult\u001b[0m \u001b[0;34m=\u001b[0m \u001b[0mself\u001b[0m\u001b[0;34m.\u001b[0m\u001b[0mf\u001b[0m\u001b[0;34m(\u001b[0m\u001b[0;34m**\u001b[0m\u001b[0mself\u001b[0m\u001b[0;34m.\u001b[0m\u001b[0mkwargs\u001b[0m\u001b[0;34m)\u001b[0m\u001b[0;34m\u001b[0m\u001b[0m\n\u001b[0m\u001b[1;32m    251\u001b[0m                 \u001b[0mshow_inline_matplotlib_plots\u001b[0m\u001b[0;34m(\u001b[0m\u001b[0;34m)\u001b[0m\u001b[0;34m\u001b[0m\u001b[0m\n\u001b[1;32m    252\u001b[0m                 \u001b[0;32mif\u001b[0m \u001b[0mself\u001b[0m\u001b[0;34m.\u001b[0m\u001b[0mauto_display\u001b[0m \u001b[0;32mand\u001b[0m \u001b[0mself\u001b[0m\u001b[0;34m.\u001b[0m\u001b[0mresult\u001b[0m \u001b[0;32mis\u001b[0m \u001b[0;32mnot\u001b[0m \u001b[0mNone\u001b[0m\u001b[0;34m:\u001b[0m\u001b[0;34m\u001b[0m\u001b[0m\n",
          "\u001b[0;32m<ipython-input-67-01c044f544a0>\u001b[0m in \u001b[0;36msales_plot\u001b[0;34m(column)\u001b[0m\n\u001b[1;32m      2\u001b[0m \u001b[0;34m\u001b[0m\u001b[0m\n\u001b[1;32m      3\u001b[0m \u001b[0;32mdef\u001b[0m \u001b[0msales_plot\u001b[0m\u001b[0;34m(\u001b[0m\u001b[0mcolumn\u001b[0m\u001b[0;34m)\u001b[0m\u001b[0;34m:\u001b[0m\u001b[0;34m\u001b[0m\u001b[0m\n\u001b[0;32m----> 4\u001b[0;31m     \u001b[0mplt\u001b[0m\u001b[0;34m.\u001b[0m\u001b[0mplot\u001b[0m\u001b[0;34m(\u001b[0m\u001b[0mdata\u001b[0m\u001b[0;34m[\u001b[0m\u001b[0mcolumn\u001b[0m\u001b[0;34m]\u001b[0m\u001b[0;34m,\u001b[0m \u001b[0msales\u001b[0m\u001b[0;34m,\u001b[0m \u001b[0;34m'.'\u001b[0m\u001b[0;34m)\u001b[0m\u001b[0;34m\u001b[0m\u001b[0m\n\u001b[0m\u001b[1;32m      5\u001b[0m     \u001b[0mplt\u001b[0m\u001b[0;34m.\u001b[0m\u001b[0mxlabel\u001b[0m\u001b[0;34m(\u001b[0m\u001b[0mdata_dict\u001b[0m\u001b[0;34m[\u001b[0m\u001b[0mcolumn\u001b[0m\u001b[0;34m]\u001b[0m\u001b[0;34m)\u001b[0m\u001b[0;34m\u001b[0m\u001b[0m\n\u001b[1;32m      6\u001b[0m     \u001b[0mplt\u001b[0m\u001b[0;34m.\u001b[0m\u001b[0mylabel\u001b[0m\u001b[0;34m(\u001b[0m\u001b[0;34m'Sales'\u001b[0m\u001b[0;34m)\u001b[0m\u001b[0;34m\u001b[0m\u001b[0m\n",
          "\u001b[0;31mNameError\u001b[0m: global name 'plt' is not defined"
         ]
        }
       ]
      }
     },
     "4c8a096f5f0f4a74bcb05ab934a835f4": {
      "model_module": "@jupyter-widgets/controls",
      "model_module_version": "1.0.0",
      "model_name": "VBoxModel",
      "state": {
       "_dom_classes": [
        "widget-interact"
       ],
       "children": [
        "IPY_MODEL_a0087c135978499a876ac95b130c4545",
        "IPY_MODEL_887b2868de0a477396171a5a40e650c0"
       ],
       "layout": "IPY_MODEL_f530285142d74baeb02cb6ea372296bb"
      }
     },
     "4d6dd6b917b0490b8610e38fe152fc4b": {
      "model_module": "@jupyter-widgets/controls",
      "model_module_version": "1.0.0",
      "model_name": "DescriptionStyleModel",
      "state": {
       "description_width": ""
      }
     },
     "4d94d50ee52c4b5e930bd81deaf973f0": {
      "model_module": "@jupyter-widgets/controls",
      "model_module_version": "1.0.0",
      "model_name": "DescriptionStyleModel",
      "state": {
       "description_width": ""
      }
     },
     "4eb47604b1e24b22a86515e01868c63b": {
      "model_module": "@jupyter-widgets/controls",
      "model_module_version": "1.0.0",
      "model_name": "VBoxModel",
      "state": {
       "_dom_classes": [
        "widget-interact"
       ],
       "children": [
        "IPY_MODEL_75a71ad46cf7475cb99cc09c5acfffd7",
        "IPY_MODEL_55114245f0aa4fa49e50932599e4c107"
       ],
       "layout": "IPY_MODEL_5ea620d0c4874892892572dd7d5a62f0"
      }
     },
     "53eb090147914473ba2b12edaa0d0d11": {
      "model_module": "@jupyter-widgets/controls",
      "model_module_version": "1.0.0",
      "model_name": "DescriptionStyleModel",
      "state": {
       "description_width": ""
      }
     },
     "55114245f0aa4fa49e50932599e4c107": {
      "model_module": "@jupyter-widgets/output",
      "model_module_version": "1.0.0",
      "model_name": "OutputModel",
      "state": {
       "layout": "IPY_MODEL_8d9e77a8d37341f6a0cb79db5fb3bb78",
       "outputs": [
        {
         "data": {
          "image/png": "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\n",
          "text/plain": "<matplotlib.figure.Figure at 0x7f05aab94f10>"
         },
         "metadata": {},
         "output_type": "display_data"
        }
       ]
      }
     },
     "5aa735cf0b08458786ed9e8afed26593": {
      "model_module": "@jupyter-widgets/output",
      "model_module_version": "1.0.0",
      "model_name": "OutputModel",
      "state": {
       "layout": "IPY_MODEL_86a7d98097f44e8eb6331126f33dd29f",
       "outputs": [
        {
         "data": {
          "image/png": "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\n",
          "text/plain": "<matplotlib.figure.Figure at 0x7f05e0196750>"
         },
         "metadata": {},
         "output_type": "display_data"
        }
       ]
      }
     },
     "5ba9fcf8314144b6a2d97eb0fc1fe78d": {
      "model_module": "@jupyter-widgets/base",
      "model_module_version": "1.0.0",
      "model_name": "LayoutModel",
      "state": {}
     },
     "5ea620d0c4874892892572dd7d5a62f0": {
      "model_module": "@jupyter-widgets/base",
      "model_module_version": "1.0.0",
      "model_name": "LayoutModel",
      "state": {}
     },
     "6398f2fa14e244e0ab12e1016286c173": {
      "model_module": "@jupyter-widgets/controls",
      "model_module_version": "1.0.0",
      "model_name": "DropdownModel",
      "state": {
       "_options_labels": [
        "Store_ID",
        "Fiscal_Qtr",
        "DateStringYYYYMMDD",
        "Daypart",
        "HourlyWeather",
        "Hour",
        "AvgHourlyTemp"
       ],
       "description": "column",
       "index": 0,
       "layout": "IPY_MODEL_eb355b9651604075ad4fc1633268d019",
       "style": "IPY_MODEL_53eb090147914473ba2b12edaa0d0d11"
      }
     },
     "64427f2aa3664c608e32f053e1b39290": {
      "model_module": "@jupyter-widgets/output",
      "model_module_version": "1.0.0",
      "model_name": "OutputModel",
      "state": {
       "layout": "IPY_MODEL_851ba67b828042f6a7c79e568c784ac7",
       "outputs": [
        {
         "ename": "KeyError",
         "evalue": "'AvgHourlyTemp'",
         "output_type": "error",
         "traceback": [
          "\u001b[0;31m---------------------------------------------------------------------------\u001b[0m",
          "\u001b[0;31mKeyError\u001b[0m                                  Traceback (most recent call last)",
          "\u001b[0;32m/opt/conda/lib/python2.7/site-packages/ipywidgets/widgets/interaction.pyc\u001b[0m in \u001b[0;36mupdate\u001b[0;34m(self, *args)\u001b[0m\n\u001b[1;32m    248\u001b[0m                     \u001b[0mvalue\u001b[0m \u001b[0;34m=\u001b[0m \u001b[0mwidget\u001b[0m\u001b[0;34m.\u001b[0m\u001b[0mget_interact_value\u001b[0m\u001b[0;34m(\u001b[0m\u001b[0;34m)\u001b[0m\u001b[0;34m\u001b[0m\u001b[0m\n\u001b[1;32m    249\u001b[0m                     \u001b[0mself\u001b[0m\u001b[0;34m.\u001b[0m\u001b[0mkwargs\u001b[0m\u001b[0;34m[\u001b[0m\u001b[0mwidget\u001b[0m\u001b[0;34m.\u001b[0m\u001b[0m_kwarg\u001b[0m\u001b[0;34m]\u001b[0m \u001b[0;34m=\u001b[0m \u001b[0mvalue\u001b[0m\u001b[0;34m\u001b[0m\u001b[0m\n\u001b[0;32m--> 250\u001b[0;31m                 \u001b[0mself\u001b[0m\u001b[0;34m.\u001b[0m\u001b[0mresult\u001b[0m \u001b[0;34m=\u001b[0m \u001b[0mself\u001b[0m\u001b[0;34m.\u001b[0m\u001b[0mf\u001b[0m\u001b[0;34m(\u001b[0m\u001b[0;34m**\u001b[0m\u001b[0mself\u001b[0m\u001b[0;34m.\u001b[0m\u001b[0mkwargs\u001b[0m\u001b[0;34m)\u001b[0m\u001b[0;34m\u001b[0m\u001b[0m\n\u001b[0m\u001b[1;32m    251\u001b[0m                 \u001b[0mshow_inline_matplotlib_plots\u001b[0m\u001b[0;34m(\u001b[0m\u001b[0;34m)\u001b[0m\u001b[0;34m\u001b[0m\u001b[0m\n\u001b[1;32m    252\u001b[0m                 \u001b[0;32mif\u001b[0m \u001b[0mself\u001b[0m\u001b[0;34m.\u001b[0m\u001b[0mauto_display\u001b[0m \u001b[0;32mand\u001b[0m \u001b[0mself\u001b[0m\u001b[0;34m.\u001b[0m\u001b[0mresult\u001b[0m \u001b[0;32mis\u001b[0m \u001b[0;32mnot\u001b[0m \u001b[0mNone\u001b[0m\u001b[0;34m:\u001b[0m\u001b[0;34m\u001b[0m\u001b[0m\n",
          "\u001b[0;32m<ipython-input-77-142e64bf113b>\u001b[0m in \u001b[0;36msales_plot\u001b[0;34m(column)\u001b[0m\n\u001b[1;32m      3\u001b[0m \u001b[0;32mdef\u001b[0m \u001b[0msales_plot\u001b[0m\u001b[0;34m(\u001b[0m\u001b[0mcolumn\u001b[0m\u001b[0;34m)\u001b[0m\u001b[0;34m:\u001b[0m\u001b[0;34m\u001b[0m\u001b[0m\n\u001b[1;32m      4\u001b[0m     \u001b[0mplt\u001b[0m\u001b[0;34m.\u001b[0m\u001b[0mplot\u001b[0m\u001b[0;34m(\u001b[0m\u001b[0mdata\u001b[0m\u001b[0;34m[\u001b[0m\u001b[0mcolumn\u001b[0m\u001b[0;34m]\u001b[0m\u001b[0;34m,\u001b[0m \u001b[0my\u001b[0m\u001b[0;34m,\u001b[0m \u001b[0;34m'.'\u001b[0m\u001b[0;34m)\u001b[0m\u001b[0;34m\u001b[0m\u001b[0m\n\u001b[0;32m----> 5\u001b[0;31m     \u001b[0mplt\u001b[0m\u001b[0;34m.\u001b[0m\u001b[0mxlabel\u001b[0m\u001b[0;34m(\u001b[0m\u001b[0mdata_dict\u001b[0m\u001b[0;34m[\u001b[0m\u001b[0mcolumn\u001b[0m\u001b[0;34m]\u001b[0m\u001b[0;34m)\u001b[0m\u001b[0;34m\u001b[0m\u001b[0m\n\u001b[0m\u001b[1;32m      6\u001b[0m     \u001b[0mplt\u001b[0m\u001b[0;34m.\u001b[0m\u001b[0mylabel\u001b[0m\u001b[0;34m(\u001b[0m\u001b[0;34m'Sales'\u001b[0m\u001b[0;34m)\u001b[0m\u001b[0;34m\u001b[0m\u001b[0m\n\u001b[1;32m      7\u001b[0m \u001b[0;34m\u001b[0m\u001b[0m\n",
          "\u001b[0;31mKeyError\u001b[0m: 'AvgHourlyTemp'"
         ]
        }
       ]
      }
     },
     "65bf591ead5e4adfb6cc19f33abf79eb": {
      "model_module": "@jupyter-widgets/output",
      "model_module_version": "1.0.0",
      "model_name": "OutputModel",
      "state": {
       "layout": "IPY_MODEL_91556340f4b54f8aa2ab844fa696f18e",
       "outputs": [
        {
         "data": {
          "image/png": "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\n",
          "text/plain": "<matplotlib.figure.Figure at 0x7f05a8e54310>"
         },
         "metadata": {},
         "output_type": "display_data"
        }
       ]
      }
     },
     "682ab90a907d44ee8f8dfb7b14bc63ee": {
      "model_module": "@jupyter-widgets/base",
      "model_module_version": "1.0.0",
      "model_name": "LayoutModel",
      "state": {}
     },
     "68f1e2461c7d4496b61f3ed85c972e87": {
      "model_module": "@jupyter-widgets/controls",
      "model_module_version": "1.0.0",
      "model_name": "DropdownModel",
      "state": {
       "_options_labels": [
        "Store_ID",
        "Fiscal_Qtr",
        "DateStringYYYYMMDD",
        "Daypart",
        "HourlyWeather",
        "Hour",
        "AvgHourlyTemp"
       ],
       "description": "column",
       "index": 3,
       "layout": "IPY_MODEL_682ab90a907d44ee8f8dfb7b14bc63ee",
       "style": "IPY_MODEL_43768ed8dd584e6480b73efd1fa5e4cc"
      }
     },
     "694ef98f2d12420cb81185e900d4c9ce": {
      "model_module": "@jupyter-widgets/controls",
      "model_module_version": "1.0.0",
      "model_name": "DropdownModel",
      "state": {
       "_options_labels": [
        "Store_ID",
        "Fiscal_Qtr",
        "DateStringYYYYMMDD",
        "Daypart",
        "HourlyWeather",
        "Hour",
        "AvgHourlyTemp"
       ],
       "description": "column",
       "index": 6,
       "layout": "IPY_MODEL_c1e9d041bfdd42acbec90e32b3ec3dd5",
       "style": "IPY_MODEL_098bef7436954c4a854f0a3c3231dc8c"
      }
     },
     "695e9cbbba6249b08fbd9a3d6fb87f5d": {
      "model_module": "@jupyter-widgets/controls",
      "model_module_version": "1.0.0",
      "model_name": "DropdownModel",
      "state": {
       "_options_labels": [
        "Store_ID",
        "Fiscal_Qtr",
        "DateStringYYYYMMDD",
        "Fiscal_dayofWk",
        "Daypart",
        "HourlyWeather",
        "Hour",
        "AvgHourlyTemp",
        "SalesRevenue"
       ],
       "description": "column",
       "index": 8,
       "layout": "IPY_MODEL_76469de281cd41bfbce00a1d65df918e",
       "style": "IPY_MODEL_4d94d50ee52c4b5e930bd81deaf973f0"
      }
     },
     "6bb088765365492098eadd3daefe7224": {
      "model_module": "@jupyter-widgets/base",
      "model_module_version": "1.0.0",
      "model_name": "LayoutModel",
      "state": {}
     },
     "6cbec5768e814b3182687aabd8c60323": {
      "model_module": "@jupyter-widgets/controls",
      "model_module_version": "1.0.0",
      "model_name": "DropdownModel",
      "state": {
       "_options_labels": [
        "Store_ID",
        "Fiscal_Qtr",
        "DateStringYYYYMMDD",
        "Daypart",
        "HourlyWeather",
        "Hour",
        "AvgHourlyTemp"
       ],
       "description": "column",
       "index": 6,
       "layout": "IPY_MODEL_f791cd089f064189a242fd476cf3e5fa",
       "style": "IPY_MODEL_0acea3221f9c41ceaa20689a437d2de4"
      }
     },
     "6edb40c7cdb0479ba23a0bd7cd657620": {
      "model_module": "@jupyter-widgets/controls",
      "model_module_version": "1.0.0",
      "model_name": "DropdownModel",
      "state": {
       "_options_labels": [
        "Store_ID",
        "Fiscal_Qtr",
        "DateStringYYYYMMDD",
        "Daypart",
        "HourlyWeather",
        "Hour",
        "AvgHourlyTemp"
       ],
       "description": "column",
       "index": 0,
       "layout": "IPY_MODEL_f126d1cbd9ea410bbfff4283f14e9c7d",
       "style": "IPY_MODEL_e0ac3b597c2f4fb897c6a2442e788e2e"
      }
     },
     "75a71ad46cf7475cb99cc09c5acfffd7": {
      "model_module": "@jupyter-widgets/controls",
      "model_module_version": "1.0.0",
      "model_name": "DropdownModel",
      "state": {
       "_options_labels": [
        "Store_ID",
        "Fiscal_Qtr",
        "DateStringYYYYMMDD",
        "Daypart",
        "HourlyWeather",
        "Hour",
        "AvgHourlyTemp"
       ],
       "description": "column",
       "index": 0,
       "layout": "IPY_MODEL_c09b32bd5c184e81877f0e19a1d57a65",
       "style": "IPY_MODEL_0a5bdccd23594a05b5d72b29b5c9f15b"
      }
     },
     "76031105c765478e81ec4a40d6b0c69e": {
      "model_module": "@jupyter-widgets/controls",
      "model_module_version": "1.0.0",
      "model_name": "DescriptionStyleModel",
      "state": {
       "description_width": ""
      }
     },
     "76469de281cd41bfbce00a1d65df918e": {
      "model_module": "@jupyter-widgets/base",
      "model_module_version": "1.0.0",
      "model_name": "LayoutModel",
      "state": {}
     },
     "76d3b7126211408083a94977ba9c1ce4": {
      "model_module": "@jupyter-widgets/base",
      "model_module_version": "1.0.0",
      "model_name": "LayoutModel",
      "state": {}
     },
     "77bfc1c003eb4378a3ace9212d94a8e5": {
      "model_module": "@jupyter-widgets/controls",
      "model_module_version": "1.0.0",
      "model_name": "VBoxModel",
      "state": {
       "_dom_classes": [
        "widget-interact"
       ],
       "children": [
        "IPY_MODEL_694ef98f2d12420cb81185e900d4c9ce",
        "IPY_MODEL_77c076659ede4a0caf74c81eacfed9cd"
       ],
       "layout": "IPY_MODEL_43d96b7de33c4cfdb34edd9219f14507"
      }
     },
     "77c076659ede4a0caf74c81eacfed9cd": {
      "model_module": "@jupyter-widgets/output",
      "model_module_version": "1.0.0",
      "model_name": "OutputModel",
      "state": {
       "layout": "IPY_MODEL_c45e890bbad14fe2b792546527ed45b1",
       "outputs": [
        {
         "data": {
          "image/png": "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\n",
          "text/plain": "<matplotlib.figure.Figure at 0x7f05a2326110>"
         },
         "metadata": {},
         "output_type": "display_data"
        }
       ]
      }
     },
     "7a2ceb73973c49a68d32ffee175c68a2": {
      "model_module": "@jupyter-widgets/base",
      "model_module_version": "1.0.0",
      "model_name": "LayoutModel",
      "state": {}
     },
     "84aae73431194726a492e2613830455b": {
      "model_module": "@jupyter-widgets/base",
      "model_module_version": "1.0.0",
      "model_name": "LayoutModel",
      "state": {}
     },
     "851ba67b828042f6a7c79e568c784ac7": {
      "model_module": "@jupyter-widgets/base",
      "model_module_version": "1.0.0",
      "model_name": "LayoutModel",
      "state": {}
     },
     "86a7d98097f44e8eb6331126f33dd29f": {
      "model_module": "@jupyter-widgets/base",
      "model_module_version": "1.0.0",
      "model_name": "LayoutModel",
      "state": {}
     },
     "887b2868de0a477396171a5a40e650c0": {
      "model_module": "@jupyter-widgets/output",
      "model_module_version": "1.0.0",
      "model_name": "OutputModel",
      "state": {
       "layout": "IPY_MODEL_a0638e8e3bd047e783764561d7712381",
       "outputs": [
        {
         "ename": "KeyError",
         "evalue": "'AvgHourlyTemp'",
         "output_type": "error",
         "traceback": [
          "\u001b[0;31m---------------------------------------------------------------------------\u001b[0m",
          "\u001b[0;31mKeyError\u001b[0m                                  Traceback (most recent call last)",
          "\u001b[0;32m/opt/conda/lib/python2.7/site-packages/ipywidgets/widgets/interaction.pyc\u001b[0m in \u001b[0;36mupdate\u001b[0;34m(self, *args)\u001b[0m\n\u001b[1;32m    248\u001b[0m                     \u001b[0mvalue\u001b[0m \u001b[0;34m=\u001b[0m \u001b[0mwidget\u001b[0m\u001b[0;34m.\u001b[0m\u001b[0mget_interact_value\u001b[0m\u001b[0;34m(\u001b[0m\u001b[0;34m)\u001b[0m\u001b[0;34m\u001b[0m\u001b[0m\n\u001b[1;32m    249\u001b[0m                     \u001b[0mself\u001b[0m\u001b[0;34m.\u001b[0m\u001b[0mkwargs\u001b[0m\u001b[0;34m[\u001b[0m\u001b[0mwidget\u001b[0m\u001b[0;34m.\u001b[0m\u001b[0m_kwarg\u001b[0m\u001b[0;34m]\u001b[0m \u001b[0;34m=\u001b[0m \u001b[0mvalue\u001b[0m\u001b[0;34m\u001b[0m\u001b[0m\n\u001b[0;32m--> 250\u001b[0;31m                 \u001b[0mself\u001b[0m\u001b[0;34m.\u001b[0m\u001b[0mresult\u001b[0m \u001b[0;34m=\u001b[0m \u001b[0mself\u001b[0m\u001b[0;34m.\u001b[0m\u001b[0mf\u001b[0m\u001b[0;34m(\u001b[0m\u001b[0;34m**\u001b[0m\u001b[0mself\u001b[0m\u001b[0;34m.\u001b[0m\u001b[0mkwargs\u001b[0m\u001b[0;34m)\u001b[0m\u001b[0;34m\u001b[0m\u001b[0m\n\u001b[0m\u001b[1;32m    251\u001b[0m                 \u001b[0mshow_inline_matplotlib_plots\u001b[0m\u001b[0;34m(\u001b[0m\u001b[0;34m)\u001b[0m\u001b[0;34m\u001b[0m\u001b[0m\n\u001b[1;32m    252\u001b[0m                 \u001b[0;32mif\u001b[0m \u001b[0mself\u001b[0m\u001b[0;34m.\u001b[0m\u001b[0mauto_display\u001b[0m \u001b[0;32mand\u001b[0m \u001b[0mself\u001b[0m\u001b[0;34m.\u001b[0m\u001b[0mresult\u001b[0m \u001b[0;32mis\u001b[0m \u001b[0;32mnot\u001b[0m \u001b[0mNone\u001b[0m\u001b[0;34m:\u001b[0m\u001b[0;34m\u001b[0m\u001b[0m\n",
          "\u001b[0;32m<ipython-input-81-06c6e2566968>\u001b[0m in \u001b[0;36msales_plot\u001b[0;34m(column)\u001b[0m\n\u001b[1;32m      3\u001b[0m \u001b[0;32mdef\u001b[0m \u001b[0msales_plot\u001b[0m\u001b[0;34m(\u001b[0m\u001b[0mcolumn\u001b[0m\u001b[0;34m)\u001b[0m\u001b[0;34m:\u001b[0m\u001b[0;34m\u001b[0m\u001b[0m\n\u001b[1;32m      4\u001b[0m     \u001b[0mplt\u001b[0m\u001b[0;34m.\u001b[0m\u001b[0mplot\u001b[0m\u001b[0;34m(\u001b[0m\u001b[0mX\u001b[0m\u001b[0;34m[\u001b[0m\u001b[0mcolumn\u001b[0m\u001b[0;34m]\u001b[0m\u001b[0;34m,\u001b[0m \u001b[0my\u001b[0m\u001b[0;34m,\u001b[0m \u001b[0;34m'.'\u001b[0m\u001b[0;34m)\u001b[0m\u001b[0;34m\u001b[0m\u001b[0m\n\u001b[0;32m----> 5\u001b[0;31m     \u001b[0mplt\u001b[0m\u001b[0;34m.\u001b[0m\u001b[0mxlabel\u001b[0m\u001b[0;34m(\u001b[0m\u001b[0mdata_dict\u001b[0m\u001b[0;34m[\u001b[0m\u001b[0mcolumn\u001b[0m\u001b[0;34m]\u001b[0m\u001b[0;34m)\u001b[0m\u001b[0;34m\u001b[0m\u001b[0m\n\u001b[0m\u001b[1;32m      6\u001b[0m     \u001b[0mplt\u001b[0m\u001b[0;34m.\u001b[0m\u001b[0mylabel\u001b[0m\u001b[0;34m(\u001b[0m\u001b[0;34m'Sales'\u001b[0m\u001b[0;34m)\u001b[0m\u001b[0;34m\u001b[0m\u001b[0m\n\u001b[1;32m      7\u001b[0m \u001b[0;34m\u001b[0m\u001b[0m\n",
          "\u001b[0;31mKeyError\u001b[0m: 'AvgHourlyTemp'"
         ]
        }
       ]
      }
     },
     "8900a84fbfca4acda0cd6a29c8b9ab50": {
      "model_module": "@jupyter-widgets/base",
      "model_module_version": "1.0.0",
      "model_name": "LayoutModel",
      "state": {}
     },
     "890db05ff3774e5f8279b079717d2fc8": {
      "model_module": "@jupyter-widgets/base",
      "model_module_version": "1.0.0",
      "model_name": "LayoutModel",
      "state": {}
     },
     "8d9e77a8d37341f6a0cb79db5fb3bb78": {
      "model_module": "@jupyter-widgets/base",
      "model_module_version": "1.0.0",
      "model_name": "LayoutModel",
      "state": {}
     },
     "91556340f4b54f8aa2ab844fa696f18e": {
      "model_module": "@jupyter-widgets/base",
      "model_module_version": "1.0.0",
      "model_name": "LayoutModel",
      "state": {}
     },
     "91abc27f8e8a4008b8c0ba9f18092a9a": {
      "model_module": "@jupyter-widgets/controls",
      "model_module_version": "1.0.0",
      "model_name": "VBoxModel",
      "state": {
       "_dom_classes": [
        "widget-interact"
       ],
       "children": [
        "IPY_MODEL_a8650f54e5124e18b28c0ff4698ba135",
        "IPY_MODEL_f511ee6cb6114d8da657a6ca5eee7355"
       ],
       "layout": "IPY_MODEL_41b966b138c440779129e08dce11e8c6"
      }
     },
     "929e2c10de01436fb0d2dd5ed0459599": {
      "model_module": "@jupyter-widgets/controls",
      "model_module_version": "1.0.0",
      "model_name": "DropdownModel",
      "state": {
       "_options_labels": [
        "Store_ID",
        "Fiscal_Qtr",
        "DateStringYYYYMMDD",
        "Daypart",
        "HourlyWeather",
        "Hour",
        "AvgHourlyTemp"
       ],
       "description": "column",
       "index": 6,
       "layout": "IPY_MODEL_93da47bb0f7745ff9f29d24098d73bdc",
       "style": "IPY_MODEL_cade3fd0034043a1a7914bfb09a64f56"
      }
     },
     "93da47bb0f7745ff9f29d24098d73bdc": {
      "model_module": "@jupyter-widgets/base",
      "model_module_version": "1.0.0",
      "model_name": "LayoutModel",
      "state": {}
     },
     "94a9880f2e90447d8bb99d95bf5b0af0": {
      "model_module": "@jupyter-widgets/base",
      "model_module_version": "1.0.0",
      "model_name": "LayoutModel",
      "state": {}
     },
     "98606c0d924e4d218956b4a331ac5b68": {
      "model_module": "@jupyter-widgets/controls",
      "model_module_version": "1.0.0",
      "model_name": "DescriptionStyleModel",
      "state": {
       "description_width": ""
      }
     },
     "99b0dbf6c79245e6b2b0e21fd78ff8d8": {
      "model_module": "@jupyter-widgets/base",
      "model_module_version": "1.0.0",
      "model_name": "LayoutModel",
      "state": {}
     },
     "9be1cf07f6dd4aaca2e6b4a1eca1a147": {
      "model_module": "@jupyter-widgets/base",
      "model_module_version": "1.0.0",
      "model_name": "LayoutModel",
      "state": {}
     },
     "9fb6a25c837b4a5d81c4daf8f253f26f": {
      "model_module": "@jupyter-widgets/base",
      "model_module_version": "1.0.0",
      "model_name": "LayoutModel",
      "state": {}
     },
     "a0087c135978499a876ac95b130c4545": {
      "model_module": "@jupyter-widgets/controls",
      "model_module_version": "1.0.0",
      "model_name": "DropdownModel",
      "state": {
       "_options_labels": [
        "Store_ID",
        "Fiscal_Qtr",
        "DateStringYYYYMMDD",
        "Daypart",
        "HourlyWeather",
        "Hour",
        "AvgHourlyTemp"
       ],
       "description": "column",
       "index": 6,
       "layout": "IPY_MODEL_fcefbfb9344545cf91032bad71788d64",
       "style": "IPY_MODEL_98606c0d924e4d218956b4a331ac5b68"
      }
     },
     "a0638e8e3bd047e783764561d7712381": {
      "model_module": "@jupyter-widgets/base",
      "model_module_version": "1.0.0",
      "model_name": "LayoutModel",
      "state": {}
     },
     "a2d376c6215e4648bbaef9bcb06a3f84": {
      "model_module": "@jupyter-widgets/output",
      "model_module_version": "1.0.0",
      "model_name": "OutputModel",
      "state": {
       "layout": "IPY_MODEL_e101576b671b455c95d66da5fd103944",
       "outputs": [
        {
         "data": {
          "image/png": "iVBORw0KGgoAAAANSUhEUgAAAZQAAAEICAYAAAB4YQKYAAAABHNCSVQICAgIfAhkiAAAAAlwSFlzAAALEgAACxIB0t1+/AAAIABJREFUeJzt3XmUXNV94PFvdVVXVe+7mlZLgCzEZTNICASJHdvYxpYTJnhsBiMbJBLizIydAI5NAGPsxBgvhwwxdmLnJICRMCAYIDEJYLHaeBm0gsQiLpIQEmq1eu+u3qrXmj/ee6VXe3X3q/33OUdH1a+qXt37uvr+3t1doVAIIYQQYqHKcp0AIYQQxUECihBCCEdIQBFCCOEICShCCCEcIQFFCCGEIySgCCGEcIQn1wlQSrmBHUCH1voSpVQj8DBwMvAucLnWesB87c3ANcAMcK3Weot5fDVwH1ABPAVcp7WW8dBCCJFFOQ8owHXAXqDW/Pkm4Hmt9feVUjeZP9+olDoDuAI4E1gMPKeUOlVrPQP8FPgisBUjoKwFnk72oT09wyUXcBoaKhkYGMt1MnJG8i/5L+X8gzPXoKWlxpXouZw2eSmllgB/AtxtO3wpsNF8vBH4tO34Zq31hNb6ILAfWKOUagNqtdYvm7WSTbb3CBuPx53rJOSU5F/yX+oyfQ1y3YfyQ+BvgVnbsVatdaf5+BjQaj5uB96zve6IeazdfBx9XAghRBblrMlLKXUJ0K213qmU+ki812itQ0qpjDRNNTRUluQdS0tLTa6TkFOSf8l/qcvkNchlH8oHgD9VSv0x4AdqlVI/B7qUUm1a606zOavbfH0HsNT2/iXmsQ7zcfTxpEqxLbWlpYaenuFcJyNnJP+S/1LOPzhzDZIFpJw1eWmtb9ZaL9Fan4zR2f6C1vpK4Algg/myDcAvzMdPAFcopXxKqWXACmCb2TwWUEpdqJRyAett7xFCCJElue5Dief7wMVKqX3Ax82f0Vq/ATwCvAn8EviyOcIL4EsYHfv7gQOkGOElhBDCea5SXb6+FIcNl3qVX/Iv+S/l/INjTV75OWxYCCFKXXBymgNHhwhOTuc6KQuWDxMbhRCiJAUnp7lt4w46+8Zoa6rk1g3n4fcWbrEsNRQhhMiRjt5ROvuMEaedfWN09I7mOEULIwFFCCFypL25iramSgDamippb67KcYoWpnDrVkIIkSXByWk6ekdpb65ytEnK7/Vw64bzMnLuXCjs1AshRIZlup/D7/WwfHGdY+fLJWnyEkKIJIqtnyOTJKAIIUQSxdbPkUnS5CWEEEkUWz9HJsmVEUKIFIqpnyOTpMlLCCGEIySgCCGEcIQEFCGEEI6QgCKEEMIRElCEEEI4QgKKEEIIR0hAEUII4QgJKEIIIRwhAUUIIYQjJKAIIYRwhAQUIYQQjpCAIoQQwhESUIQQQjhCAooQQghHSEARQgjhCAkoQgghHCEBRQghhCMkoAghhHCEBBQhhBCOkIAihBDCERJQhChhwclpDhwdIjg5neukiCLgyXUChBC5EZyc5raNO+jsG6OtqZJbN5yH3ytFgpg/qaEIUaI6ekfp7BsDoLNvjI7e0RynSBQ6CShClKj25iramioBaGuqpL25KscpEoUuZ/VbpZQfeAnwmel4VGv9LaVUI/AwcDLwLnC51nrAfM/NwDXADHCt1nqLeXw1cB9QATwFXKe1DmUzP0IUGr/Xw60bzqOjd5T25ipp7hILlssaygTwUa31OcBKYK1S6kLgJuB5rfUK4HnzZ5RSZwBXAGcCa4GfKKXc5rl+CnwRWGH+W5vNjAhRqPxeD8sX10kwEY7IWUDRWoe01iPmj+XmvxBwKbDRPL4R+LT5+FJgs9Z6Qmt9ENgPrFFKtQG1WuuXzVrJJtt7hBBCZElOb0vMGsZO4BTgn7XWW5VSrVrrTvMlx4BW83E78LLt7UfMY1Pm4+jjSTU0VOLxuFO9rOi0tNTkOgk5JfmX/Je6TF6DnAYUrfUMsFIpVQ/8u1LqrKjnQ0qpjPSFDAyMZeK0ea2lpYaenuFcJyNnJP+S/1LOPzhzDZIFpLwY5aW1HgRexOj76DKbsTD/7zZf1gEstb1tiXmsw3wcfVwIIUQW5SygKKVazJoJSqkK4GLgLeAJYIP5sg3AL8zHTwBXKKV8SqllGJ3v28zmsYBS6kKllAtYb3uPEEKILMllDaUNeFEptQfYDjyrtf4v4PvAxUqpfcDHzZ/RWr8BPAK8CfwS+LLZZAbwJeBujI76A8DT2cyIEEIIcIVCpTldo6dnuOQyXuptyJJ/yX8p5x8c60NxJXouL/pQhBBCFD4JKEIIIRwhAUUIIYQjJKAIIYRwhAQUIYQQjpCAIoQQwhESUIQQQjhCAooQQghHSEARQgjhCAkoQgghHCEBRQghhCMkoAghhHCEBBQhhBCOkIAihBDCERJQhBBCOEICihBCCEdIQBFCCOEICShCCOGw4OQ0B44OEZycznVSssqT6wQIIUQxCU5Oc9vGHXT2jdHWVMmtG87D7y2NolZqKEKIkudkjaKjd5TOvjEAOvvG6OgdXfA5C0VphE0hhEjA6RpFe3MVbU2V4fO1N1c5mNr8JgFFCFHS4tUoli+um/f5/F4Pt244j47eUdqbq0qmuQukyUsIUeKsGgXgWI3C7/WwfHFdSQUTkBqKEKLE2WsUTbX+kqxZOEWumBCi5Pm9Htqbq0p2dJZTpMlLCCEo7dFZTpGAIoQQZKYvpdRIfU4IISjt0VlOkRqKEEIIR0gIFkIISnvJFKdIDUUIIZBOeSdIQBFCCKRT3glSnxNCCKRT3gk5u2JKqaXAJqAVCAH/qrW+SynVCDwMnAy8C1yutR4w33MzcA0wA1yrtd5iHl8N3AdUAE8B12mtQ9nMjxCi8FlLpoj5yWWT1zTwVa31GcCFwJeVUmcANwHPa61XAM+bP2M+dwVwJrAW+IlSym2e66fAF4EV5r+12cyIEEKIHAYUrXWn1nqX+XgY2Au0A5cCG82XbQQ+bT6+FNistZ7QWh8E9gNrlFJtQK3W+mWzVrLJ9h4hhGl8ojR3ERTZkxeNhEqpk4FVwFagVWvdaT51DKNJDIxg87LtbUfMY1Pm4+jjQghTcHKab/7w1xzpHpEhsSJjcv6NUkpVA48B12utA0qp8HNa65BSKiN9IQ0NlXg87tQvLDItLTW5TkJOlWr+9aF+jnSPAMaQ2LHpEEvbi/tajE9Mc/hYgBNPqKXCZxR1pfr7t8vkNchpQFFKlWMEkwe01o+bh7uUUm1a606zOavbPN4BLLW9fYl5rMN8HH08qYGBsYUmv+C0tNTQ0zOc62TkTCnnv9LjYsmi6nANpdLjKuprEW+S4tL2hqLOczqc+BtIFpByOcrLBdwD7NVa32l76glgA/B98/9f2I4/qJS6E1iM0fm+TWs9o5QKKKUuxGgyWw/8OEvZEKIg+L0e7rz+w+x+61hJDImNN0lxaXtDjlNV/HL5rfoAcBXwmlLqVfPY1zECySNKqWuAQ8DlAFrrN5RSjwBvYowQ+7LWesZ835c4Pmz4afOfEMKmwlc6Q2JLeV/3XHKFQqU5XaOnZ7jkMl7KTT4g+S+1/AcnpyMmKZZa/uNxqMnLlei54q73CiFKlkxSzD5Zy0sIIYQjJKAIIYRwhAQUIQpMcFJmvIv8JH0oQhSQUtgEKrozXRSOtGooSqm/UUrVmY/vV0q9pZT6RGaTJoSIVuybQFkB8/ZNO7lt4w6phRWYdJu8rtZaDymlLgIWAX8OfDdzyRJCxFPsm0AVe8AsdunWJ60JhBdhLJPye6WU9L8IkWWFvAlUOk1ZMiGxsKX7bRxXSt0IrAP+yFw2xZu5ZAkhEinE+RXp9v1kO2DOpb9G+nZSS/eqXI2xvMmNWutjSqnlwAMZS5UQIq5CLdTiNWUlCorZCphzGeBQCoMhnJDWFdFavw1cr5RqMX8+AHwvkwkTolBkq5Av5EItH5uy5hLk5vLaUpbWt1EpdQHwCEYn/lKl1HnAX2qt/zKTiRMi32WzkC/kQi0f+37mEuTyMSDmo3R/q3cCn8Js5tJa71BKbUz+FiGKXzYL+UIv1PKt72cuQS4fA2I+SveqeLXWb9p3UwQmM5AeIQpKNgv5XBVqhdpvk465BLl8C4j5KN1vx4S5VW8IQCl1BhDMWKqEKBDZLuSzXagVcr+NyL5055LcDjwDLFZK3Qe8ANyaqUQJUUisQr4YC9pkEw1lTTERLd1RXk8rpTTwScAFfEdrvT+jKRNC5FyiJj2puYh40v4GaK3fAX6awbQIIfJMoia9Qh5xJjInaUBRSm3H7DeJR2u9xvEUCSHySrx+m0IfcSYyI1UN5WtZSYUQoqDIMNr0FfMouWhJc6e1/nW2EiKEyI35FngyjDa1UutrSnemfB1wI7AS8FvHtdYfzVC6hChaTtyxOnXXW2oFXraVWl9TusOG78VYwv5U4N/Mx9sylSghipUTG0g5uQlVtvYfKdUhxsW+f020dG9FTtFaf1YpdanW+iGl1OPAi5lMmBDFyIk7VifverPRuV7KtaBS62tKe6a8+f+kUqoRGABaMpMkIYqXEwW4k0EgGwVeqTX7RCulvqZ0vz1vm4HkQeD/AUPAzoylSogi5UQB7nQQyHSBJ0OMS0e6M+WvBFBK3QtUY/ShfD+D6RKiaDlRgBfSXW8xNvuU0lDguUg1sfHnwB1a691mDWU3EACagS7g7swnUQixUMHJafShfio9rpwUgIUUAFMp5T6hVFKN8jpXa73bfHwVsFdrfSawGvirjKZMCOEIqwD82o9+EzEqrFRHXi1UtkbGFaJUAcW+RP0HgX8H0FofIcmSLEKI/BGvAHRy6HGpKbWhwHORsp6mlFqMMarrI8C3bE/5475BCJFX4nWK5/vIq3zoo0iUhmLsE3JKqivxPeBVjN0Zf6u1fhNAKXUhcDjDaRMiq/KhEMsEqwAcmw6F+1DsQaap1kdTbfbuD1NdZ3sfRVOdn1uuWk19tS9r6bPS8Pf3baerf5zWxgq+dfX5MUElnwJwvkja5KW1/r/A2cAlwGdsTx0GvpjBdAkRI5Nt/sXeBOT3elAnNYYLRb/Xww3rVtFU56cvMMEdD72SlTync53ttae+oSC3b8ru7yM4Oc3vXuukq38cgK7+cQ52BrL2+YUs5W2Y1voYcCzq2NGMpUiIODI9sibfm4AyoS8QpG/I6CbNVp7Tuc7tzVVGoDPT1heYmFfa5lPjtH/PMnH+YpfTq2DOa7kE6NZan2UeawQeBk4G3gUu11oPmM/dDFyDMQ/mWq31FvP4auA+oAJ4CrhOay2DBopIpgv8fJh8l+0Cyok8zzXN6Xym3+vhlqtW851NO+gPTNDaWDHntMW7ARmfMGq4ydJq/55ZWhsrWNZWm/L8ElRyHFAwgsA/AZtsx24Cntdaf18pdZP5841KqTOAK4AzgcXAc0qpU7XWMxg7SX4R2IoRUNYCT2ctFyLjMl3g57qjNVUBlYlgs9A8p+pnWMhn+r1uyj3prl0bK/oG5GBngO/+fBdHukeSBgD796y1sYL1n1Qsa6uNeW0p1mjTkdOAorV+SSl1ctThSzFGlAFsBH6FsXT+pcBmrfUEcFAptR9Yo5R6F6jVWr8MoJTaBHwaCShFJRsFfi47WpMVUJm8G55LngdHJthzoI+zlzdRX+3jYGcgpp9hWVttGsEi+WcGJ6fZtrc74txzLbAjBh3U+ZmcmuFI9wiQPAAk+p5FB/R8qNHmo1zXUOJp1Vp3mo+PAa3m43bgZdvrjpjHpszH0ceTamioxONxLzy1BaalpSbXSViQpe0NC3p/vua/uraCJYuqOdI9wpJF1Zxz2glU+Iw/T32oPyLYjE2HWNoem4/xiWkOHwtw4gm14fdGm2/+BwJB/vaOF5meCeFxu7j3G5+gvq4y4jUVVb5wLWDJomruvP7DCdORKM3jE9N884e/5kj3CB63i+mZEC31ftzlHqprK1Kez+4Hf/VHfPVHL9EzMM6jv36Hxc1VHO0djbm+0enpPDyAp9zDsaEJfN5pli6q4bv3bovIVzXwxf/+frr7xvjDsxfTYI6Si5efVL+TbMvk30B+5DABrXVIKZWRvpCBgdSdbsWmpaWGnp7hXCcjZzKZfyeapL5+5bnhc4wExhkxj1d6XBF3w5UeV0w+0qnFLCT/L+0+yvSM8ac4PRPihW2HWHP6IlobK+jqH6ex1sfQ4Fi4FnCke4Tdbx2LqAVEXyN7k1ljrY9vrD+PvkAwfI7pmRC1VeX0DAb59j1baaguZ/3a01En1qd1jQ8cHaJnwKjldPSM8q1rLuDQ0SHU0np2v3Us5ndlT49dY62P/sBEOF+/23WY+595O3zssV/t4+q1p9HWVMUdD70Sbi674qMr2PzCPrr6x/Omn8WJv4FkASkfA0qXUqpNa92plGoDus3jHcBS2+uWmMc6zMfRx4XIKKuAbKr1hwuShRQciZqC0mnuS9RkZi/EF+Ls5U243S5mZkK43S7OXt6E3+vhxs+fy+2bdtAXmGDzC/vDASa6GSg64N2wbhU79fFmrf7ABN/ZtINvrD8vYn5MX2AifI6BkSnuenRPRH9NskAe3R/yb794naO9o7jLXMzMhljUUMGGtcf7SDp6R2OCiZU2Ky2tjRURwQSgZyDIHQ+9GjEyrat/nLse3RN+Tan0s+RjQHkC2ICxmvEG4Be24w8qpe7E6JRfAWzTWs8opQLmZMutwHrgx9lPtigl0ZPvFjL81onaTbw2/Yg01vr4x698ZF6fG5ycpi8Q5DvXXIB+bzDchwLm0GOzcO3qH+eGdSvxlrtjzhkd8KwgZNcfmKAvEAwHz6ZaPz94cFdMId/VP862vd2cvbwpaSC3B+LJqRnueOhVAGZmjZpW98A4dzz0arjzvbHGT32Nl8HhyYjPW9RQwbqPnQLAsb5xHn5xf9zr1DcUpLaynMDYVMxzpdLPkuthww9hdMA3K6WOYCzt8n3gEaXUNcAh4HIArfUbSqlHgDeBaeDL5ggvgC9xfNjw00iHvMiw6Ml31h3sXAuOdJqq0nlNvFrMgaNDx9MYmOCrd73E1Z9S4SGw6YzQSvXZ0YEs3oio6NfZA7Bdozlj315T+9bV5/PrVzp4+MUD4deVlcF9T79FQ42PgWEjKHX2jaEPD6BObAhPQrTSYtXU2luq6OiJXcixq98ILFbNBaC+2su6j58CuHj4hf3c9ehrlJW5mJ1N3ALvLnMRGJuiprIcn9dN72Aw7kixYp6/kutRXusSPPWxBK+/Hbg9zvEdwFkOJk2IpKIL0hvWraIvEJxzIZHO8NPo12zb282a0xfFDSr297Y3V0U0G/UMGgVnW1Mll1+0PGaE1uknNcYUdqnSl+6oKPvr7E2ErY0V/Lc/PJmHX9hPf2CCHzy4K1wAW3m/4MwT+NXuo3T1j0fUAKxgYvnxY6/RVOenZ9AIVo21Pm64YhUjwSmaav2EzFhQ5oJ4cWHGdnBwZJLqCi/3Prk33LyVKJiUlbm45A9O5InfHQJgeGwKt9vFDetWxgTY+Qy1LiTFkxMhMmAuCwTOZ72pdIaf2l/jdru47+m32LLtcMq+Gr/Xwy3rz+P2+3dG1Ag6+8bojVNDiFcbSdSUFh0sojvf49VqrOG2Hb2j4QBc7S/new/sYtgMElZtobWxIvxzW1Ml1192Dvq9QU4+oYbbNu6IKPwtsyHCwQSMJrRb7n6Z2Vmoq/IyNDoZfl1VhYfR8cTLubQ0GKO2opvlLC4X4QA1OxvixV1HIp63ms2ifz/xhlqfflJjwnQUGgkoQiSQqrnHqZ0XU3W4W6/Ztreb+55+Czg+WS9ef4VdfbWP265Zw8HOAA88u4+jvaO0NVWyWi3iuZ1HwnfK1vyReLURe/qA8DVpbazgMx9aRmB0itVqUTigJhsgEN0xf/umHQRGJ2PSbe836ewb4x8eftVoWqzzxw0miczOGv8PjU6GaybRnf3xXPbh99HWVBUeiGB37opmdu3rjTg2PD4TEWQANm3RKWsgR3tHEzYTFqLiyIUoWZlsj87WbOh0ApPf62HN6YvYsu1wuDDftEWnNSTV7/WwrK2WL192DoNDY+EC7FtXn59ysp59JJvVuW1dk67+cX76H28CsPn5/dzxpT+kvtroB7H6I9xlLkbGJsPnsV/PPQf6Ehbs9TVefOVuo5mrynt8Xa+hIHXV5QyNGDUalwv+7FOK+5/Zx9T0bNJrOBuC2spy/vqzZ/Pjx/bQF5gIB4HoZrCtb3TTPzQRE0yAmGBiCUW9NN6EzGVtteGRcO4yFw88u48XdnXkxZBiJxR+DkTJWugM8lTBKN9mQycatZQq2MW7Ttb5rCYo6xrY+zkOdgbCQcu6U29trAgXiHYzsyH2HOjjQ+csprNvNFyLmJkNcdejr5m1mfeF53S0NVWiltZHdKzbfeK8paxa0cIdD+2if3gyHKBa6v0Mjx2v0YRC8LOndNq7/QXGpvjx46+FA1koBC7g6k8p7n1Kh1+3a18vu/b14iK9nQTdZS5qq8oZsI0Qa6jx8W7nME21/nDtzQrk0bXNYhlSLAFF5KV0ah5zqUFE76k+35FTTufRPiLJylOyzm1LW1Pqvg3rZ3utIlUTVF8gSFOtn+89sJOegeP9Edadelf/ONdd9n4A/unx18OBwwWopfUATE7NEM2ozbwBQGONl2s/ezb/55FX4wYTgEdePMCzO94LF9AzsyH+9AMn8Z+/PxRTE0hV4EfXPqJHmIUgIpjM5dyWmdkQF61q5z9+c5BZM0gNjUzwwLNvs/n5ffzVZ87ipBNqwwM37LXNfLhZcYoEFJF30q15pFuDiHe+dINRsuaohTS3Rc/Kbqk3+gb6AxM01vq46hOnctIJteHRUE11fr72uZX86LE9cUeWATHBwT6SKt6Ew+hr8J2N2+kfnqShxhtxpx1t8wv7Wf9JFdGXEQJ++Ohu1n9Spcx7//Akrx/sp3cwdmCAXXQatmx7LyaYpJKoBpQJj790MPw4xPEmMKuWZjWvtTZWcOPnz+XKT5wKIH0oQmTSXAr7dGoQ8c630Oas+TS32QOQfbQPxI5OuuvR1yKW/OgbCvK9n+8MD5nt7BujLxAMXxf7nBOrf8Le13HDupW0ttSEa2hgBGR781W/WYAnCybW+YCYpi9rhFZ9tTfp+xtrfVT45r6S8MRU8j6SaJV+NxOTsZMMsyFeU5kVYLr6x7lt43YGhicjmiCLgQQUkXfmUtin06Ed73xWMJrvTnxz7bC3B6DWxoq07rT7AxPUVpUTGDUKxcDYVHgeRnQzV7W/PGJpFLW0PmbC4dL2hoh1nPxeD+s/qcJ9MZbo0UrRGmt9tDVVMWu+KLpJaXAkeUDqD0xw75Nvpb4ACzQWjG16y5ZUv14raBdT/wlIQBF5ysnmACt42PdUt1idzi0Nfq5ee1ranzeX5rZ4o6PsPn7uEl59p4fewYmIwrysDD5wVhtPbz0cfm1gbIqmOj83rFtFcHImvIRJU60v3M8xMxPi9YP9XH7RKUxOTxMYnaJ7YJzdB/vxu8tQJ9YTnJzhV7uO8F7PaHgYrdXxnSrYffCsNn67pyPcxzKHUbxh83lPMSqm/hMAV2iujZJFoqdnuOQyXgirDWdy74/o/O891B9zd27/zOiFFaM7vNPpULfy0tLgN4ahmkNpG2q99A5OUFZmzJWw7vJrKt0Mj0XeWcerMdywbiX3PvVWRAdzld/DaHA6fM5E7JP8SpnLBW4XpBhtnDGVPje3bjifumpv1pZicWi1YVei56SGIvLKfOd+RBfw8f4wo7eAnYzTJm9NGITjtZfoWdv2Du9FDRV84Kw2fvVqBwPDExFrN9nzEjFiajbExKTx2VbBb92xRwcTMILJ5Rct59fm8iNtTcY+JNGjlUaD00ZgSlFApgomqZq8ikUoBNM5zOfYxAx3PLSLcnO+Tb4scb8QhZtyUTTsNYH5dJZHj5iKt0ZScPL4xk3GXhWn8MBzb8ecyz5h0BI9a3un7gkHiu6Bcf79N+9EvNZaOuTGz58bzkt0P8NwnBVpk/nl1sP8zedWMho03tdY44+7fIgTTUmZDCbe8rK4gbxU9dsGQBRDf4oEFOGIeENokw2rTbaXyFznfkTvYxFvhrI+PBDeuMnYq+K1mPNc/anTaKn3xzSDtTQYW8gOjUzRXO9jy7bDMe+N1tU/TmffaMySKfH88YVLeerl95KeLzA2xbfv205jnY/ewYm4S4IUAgkmiZW5oMnc+bFQSUARC5ZoJnaivpDofTqsWcv2O7S57h++qKGC7oHjNRR7zWZwZIJ/evz1pOdobaxgzemLACI2Zbrio6fw4HP7wkt99A4mntMQ3VQ0Mj6J3+sxNqeyLY0eraGmIuLnSp+HsYnYhQtnQ8c/vxCDiUhuNgSdfaPzWmQ0X0hAEQsWr9/Demw/Zs3O3ra3O2KfDmt/jHhNXOlOHnSZ3YSNtT5u/Py5Ea/dqbsTFub11eVsiNpW1thNsIfaqnI6+8Yi5ogkE91UdP+Wt1mxpIFDx4YTfn5tlYfmOn/EnI54wSRdZS6oroi/yZPIf/FWGSgkElDEgiXq97Afa6r1s/dQf8zaUIn2ErE62e/75Vv0DASTbvtqb/Kydv3ze93h1zTXJW5GGByZAkIRnxu97EgqiTZeGhmf5u9+tg1XklkJw2PT3PXoHloa/NRWeeOuvBv/M+N3vlf4PEmDidsFUrnJX5tf2I86saFgO+YLM9UirySasR5vQyXLzEyIqz91WnijKHs1394kZrH2jljWVpt0z47WxgpGxqYiNjH6zIeWxR2Oa7n7v/byjfVVtDZWcrAzMKdgAok3XgLCkxITsWo1c//M+MdHg8lrNxJM8pv1PfeWu2mq9c9r07ZcKoxUigUJz6aurUj94nmKN2PdOmZfFsTS1lQZd9fB6CYxu8mp2ZjmNWuI7+UXLQeMO7y7Ht0Tfo99ifVEK8eOBqe55d9e5ptXn8+hYyNJ81npczM2ERmYEu0AKMRclZURrpVb/W72fsl83zo4P1MlHGO/21+yqJqvX3lu1r+M0TUI+x7b0ZMHrbTGb9IJxZxr4y91uDPevvZVPMnK/NkQ/N3PtqfMS3Qwsd7WSYd/AAAXZElEQVQbraaijJHx2bRXqxUCjO+8VVu1+t06+8b43WudPLPjvZjm33yTfykSjrLf0R/pHsnJOPdETWKDIxPh7Wnbmiq58hOnhtM6OxtbG+jsG0Od2BBeg+to7ygPPLsv/Hx/YCJmFnhdlYeh0dhmoPNObWLH232ZyjIeTzkhsrPKrShuZWVEfM/zeevguS/5KQqKdUcPsGRR9bzWDQpOGjPMg5PzH31kNX/ZO79v37QjPNvbCiRWWlsa/AQnI2sDj7x4gG/eu5XX3unjnv96kwee3Ye77PgqEC4X/I+L3kdddfnxN7nif8XTDSa+8vn9iWRryXRR/OL1l+XraDBZyyvPpRo2m86wWus155x2AiOB8bivSfb58eaYWJ3t6XYaRqfzwNEhbt+0M+I13/vLC6mr9nKwM8CeA31s2ZZ8sl8i0qchit0XLl7BB97fNudmL1nLq0QkmmmebKHEdBdStGoHFT4PybucY8XrBP/5M2/T2TcWMfQ3euKivV/EvpWsfWRWbaWHwNjxWs+vXu3gIyvbuffJvQn3Go9WXgbRk68lmIhiVmbuRf/cziMR/ZH5ID9SUeISBYZUCyXOdyHF6M9OtjzK5NRMxG5/1mfB8dnaibaVbW2sYDYUihgSawWl009q5AufUOFtYcHYke+5HUcSTgKMR1byEKXGGqZurRvXVOfnlqtW58UMewkoeSBRYEi1UKKTuw421fq4Zf154S9ldGC4Yd3K8DLt1mfaayj22kiifT8s9z61l7VrTmLFkjrqqsoZss3VSBVMPG6Yzs/mYyFyom8oyLc3bueLl5yR89qK9KHkgWRNV070oVii20+j+zGa6vzcds2auH0ct6xfHa792Bd2tPehDI5M8J1NO8JDdzOxn3eVD0alv1uIuKxVrhP1bUofSglItjd6OlvcppJoYmO1v5xKv4cxc3Z131CQbXu7OXt5U0xTV1OtnwNHh8JBJDqYWKO27PNArvjYcjY/vz/lHuVzIcFEiMS6+sf55j1bGRmfjpnzlQ1SQylg9ppNbWU5N1+5mtbGyoSvsU9sHByZ4Iaf/D5uE5PVlGV9IduaqsLrW1mzd63/rRV53+se5vGX3g2fo9Lnxud1MTA8/6HGQoiFsweWpe0NvNcxsKAZ98lqKDIPJQ+lO+/D3vcSGJviG3dvZXBkIuFrjnSPhJcq2frGsYT9FVZne1f/OJNTs2x941jM7N0ZW8fgXY++FhFMwJhRLsFEiNyzOu9v27iDzt4Rbr17K7dv2sltG3csaG5ZPBJQ8oxVo0jnF17tL8d+qzAzG2LPgb6IgNTeXEVLw/HVdu95ci9d/WP8cnvqTaIAfvzYHh5+8cB8syOEyBOdfWPc+E+/jdl/yEnSh5Jn7KOkkg0FDk5O8w8PvxqxVpTLZYzAsq+0e/1l5zBhW76kP2B0nKdaldYiczqEKGzWRF9r3yFLU61vXitnJP0sR88mYsxl2ZLg5DSbtujwzw01XvoDQXbv72Hvof6Ic3T0jkZ8OcBYCv0HD74SHq7b1T/Od+/fHrM/RrrBRAhR+GZDUFtZztc+t5Ili6oBI7jcsj7+ROiFkBpKBgUnpyNqC6lWCNWHByLmbgwMT0ZM/LOfwz4HpcLnZtyshUTvzTE8LpM2hCh1gbEpRoJT3Hn9h9n91rGMLYEvNZQMOtgZiKgt/O61ToKT0wQnp9l7qD9c6whOTrP9rS5+9NhrSc/X1T/Oz595m67+MfxeDzesW0VjjTccTCwNNeUJziCEKEXW5OMKX+QirU4rmhqKUmotcBfgBu7WWn8/E58zl4mE0R54dh9bth9mejrE4IgxN6O+xovHXUZvmvuW//71Y/z+9WP80dmtlHvK6I8zx2N0XPYTF0IY7DujZlpRBBSllBv4Z+Bi4AiwXSn1hNb6TSc/J93FGK3XAjTVeekbOl7o9w5GDusdnOekv9/s6Ur4nMMjAYUQBSrRzqiZUhQBBVgD7NdavwOglNoMXAo4GlDSXYwxYsJhlTQ/CSGyp67Ky1cuP4epmdmsbxdcLAGlHbBvnnEEuCDZGxoaKvF43HP6kOraCpYsquZI9whLFlVzzmknUOGLvYT6UP/xCYejUyn356iv9oabwIQQYq7qq318+39eyOTULCeeUBu3XLK0tNRkLB3FElDmbGBgbF7v+/qV54b7UEYC43H3F6n0uCJWAb72s2fzyr5ent3xHgPDEzTUeAEXA8MTNNX5+drnVvKjx/YYK/iaS5oANFSX89mPnMK9T+6NCEhWgKqp9HDWsiZ27+8Nb5Vrfz9AdYWH2ZlpxiReCVFQzlrWyKFjgwyPz+L3lvGVy1dyz5N76R4Yp7nezxc+fioQwlvuNtbrKndDuTthuQSOLQ6Z8LliCSgdwFLbz0vMY45LZ7HGeIs9rr3gRD6yanHExlP2563XN9X66ewzZq9ai7qdcXIjew70oZbWMxKcirswo7WkSltTFZ19o0xOzYS/aGCMOHOXe3jnvUGa6nx4PW4wp0WOBo33L2urodzjpm9ownxNGd5yN8GJaf79pXc41j/G9Cz4yl1ccMYihkanqPZ76BmcoL25kl37ehifnIYQzM5AZaWb0bEZzJVccLsIP67yQXDy+M8A9dUexsamqfCXMzM1xcgCxhaUAbJVisiGcjcsWVRFT/8YIxOxTRG+8jLOWtbIzrd7Y5778Mo2fv1qZ/jnuiovQ6OTtDVV8qkLT+SOh/oBCE7OUlbm4u/+7PwFrcOVaUWxOKRSygO8DXwMI5BsBz6vtX4j0XuKYXHIuVro3cl8RrhF795of386gxySvT9VmuzzgOy+cPEKFjdX0Vjj5x82vxKzO2RDdTkDI1M01nj5n5eexa63e9j+1jH6A0aE83nL+NiqJbQ0+Ln/mX3MzoZwuYyZx71Dx8+1qKGCDWuPr/YaHfhv37Qj4rP9PjdXXryCu//rrbjXstLv4db159HaWBlzXfThAe5/5m36AxPhWvEdm1+JWP3ZcsO6lXjL3RG/B/u5fvdaJw88uy9uGqJZs6+tWnNzvY/xiWlGx2dorvfhcrkiNlgDWL9W0VDtZTQ4xcPP72d4fJqaSg/Dtt07v3DxCip8bt7rHuUPzjyBn/zH63QPjNNU6yM4McXoROTtwqKGCj541gk8v+tIxP460dqaKrlh3Sp+8OAuuvrHaazx8o0N54f3AYretqG60sOIma7meh/usrLwCtw3rFsVs33DDT/9PTMzIdxuF9+55gJGglPh62p9F8vKXMzOhsLnuOOhV8J/A/ZzAmkPAkpXppevL4qAAqCU+mPghxjDhu/VWt+e7PUSUPLDQoZhp2P3/h7uevT4/J6mWh+3/cUFCfe1h9hAYKXTCgb244MjE+w50MfZy5vo7BvljodejTiXfR+ZaIMjE9x+/076hoK4XMZKB62NxhYD1mRY63H0BmjxRF9LK82TUzNsfmF/xBbMya519OZq9vTYd+BsrPXFDVjWcWtvjj0H+rjv6eNBMtHeOlbBav9MK71g1LLveXJvzGfah8Vaeba2nLavnH3t5atoqPTEBNFE22pHL1VibTIX73tg/51a34fo39XgyET4JsL++4z3e0t2E7UQsh9KmrTWTwFP5TodYm6c2O8lkeDkNJtf2B/+ubnez9evXB3+w7SvNmAvHLsHxvGWu2P2pTn9pMaYz6iv9vGhcxaHh4m3NPjDBW5rYwXtzVUJC6/6ah+3XLWav//ZdoZGjU6urv7xiBoEpF+gRF9Le5rViQ2MTYeo9LjSOo+9ydZKg9UcazWntjVVhYOAVXA31frCta6u/nE6+0ZpqfdH7K1jXz/KnmbrMyenZsKB2T6a0lvujgkmrY0VEcNirTx/6+rzYzaBW9reEC5ME33vopuf7bUHq/n458+8HXeXU+P9btpbqvB7Ywf89AWC4WvTF5igLxCkvtoXkZZ4tfZM/X1kQtEEFCGidfSORjR3fWXduVF//IkLj7ksmhd9R3/dZe+P6L9K1mzRFwiGgwkYNajoO9/25qo5NfXF4/d6WNqe/t1pdIHb3lwVd7to+/WzNl6z1zSsmoJ9G+lE6bU+Mzg5HXdr6+gbgKs+oVAn1sc9nz39fq+bjt5RmpvTG90UL8hZ1/nA0aHwCM6+gFHDtHY5TdWEm86W3elOTchXElBE0Yr+A16xtIGRQGR/SrLCI132QqCrf5zqSm/4nPYCKF4BYU9jU52fW65aHfHZ8QopSK9t3cnmRHseowtSKz9WsI5X0+jqj631JZJoB9NkO5smkmiDuXTFC6z2WljfUDD8O00VDNJJfzpBJ59JQBFFK/oPuMLnSTic0nr9fO4GkxUCqQqIVIVMvELKemw/Fp3uRIFovpIVpNFS1TSS9V/Yjyc7d7RE54zeYG6hd/x+r4db1p8X7vtKVINKFAxSfcfmEzTzSWGlVog5ymQfjf0zEhUC6RQQydKYqJCaT9PJ0vaGBeUxUUGa7D3ReU/ULDSXZY2iJXuv/fotWVTtyB1/fbWP265Z40gNKp5sfGczRQKKEAuUqmlpIQVEokIqF00niQrSVOm35z1Rs9BC+g6Svdd+/c457YSYJs/5mmsNqlRIQBFiARZyZ52ueIVUrppOFlpgJgp0CwmA6TQrLl9cl7LJUyycBBQhFiCfR+Xk492ykx3uqc4psk822BIZMZetjwuZdXcMFOSonFywAl10wZ/o+ELOKbJLrr5wXDaagfJFvt4dZ3oFApEZhf57K7wUi7yXz81AmZBvTUulFNCLSTH83qTJSzhOmoFiZbMJMNHcFZHfiuH3VljhTxSEfG0GypVs33kW+mzrUlUMv7fS/ksXGZNvzUC55FQTYLrt6xLQk8vXfopkv7d8TXO0/E2ZEAUm0R+9E3eec63lZCugF0pBZ8n3fop4v7d8T7NdfqZKiAKT7I/eiRpDPg50KKSCzpKP1zGVQkqzdMoL4YBUHaoLnSeRjwMdCrET2cnrmK2BFvn4u08kv28nhCgQme5Qzcd+kULsRHbqOmazdpaPv/tE8jdlQhSQbPzR59tAh0Iq6OycuI7ZbobKt999ItLkJYRDSnH5j1LMMxRWM1Q2lda3QAghHFCotbNMkxqKEKJkFvN0UqnWzpKRKyFEiSvE4b8iP0kNRWSc3P3mt0Ic/ivyk9yGiIySu9/8V4jDf0V+kr9skVGFNMu3VEkHs3CKNHmJjJLhlYVBOpiFE+TbIzJK7n6FKB1SQxEZJ3e/2SGDH0SuyV+4EEVABj+IfCA1FCGKgAz9FflAAooQRUAGP4h8IHViIYqADH4Q+UC+dUIUiUJZ4lwUr5wEFKXU/wD+DjgdWKO13mF77mbgGmAGuFZrvcU8vhq4D6gAngKu01qHlFI+YBOwGugDPqe1fjdrmRFCCAHkrg/ldeAzwEv2g0qpM4ArgDOBtcBPlFJu8+mfAl8EVpj/1prHrwEGtNanAP8I/CDjqRdCCBEjJwFFa71Xa63jPHUpsFlrPaG1PgjsB9YopdqAWq31y1rrEEaN5NO292w0Hz8KfEwp5cpwFoQQQkTJtz6UduBl289HzGNT5uPo49Z73gPQWk8rpYaAJqA32Qc1NFTi8biTvaQotbTU5DoJOSX5l/yXukxeg4wFFKXUc8AJcZ66RWv9i0x9broGBsZynYSsa2mpoadnONfJyBnJv+S/lPMPzlyDZAEpYwFFa/3xebytA1hq+3mJeazDfBx93P6eI0opD1CH0TkvhBAii/KtyesJ4EGl1J3AYozO921a6xmlVEApdSGwFVgP/Nj2ng3A/wMuA14w+1mSammpKcl+llKv8kv+Jf+lLpPXICed8kqp/66UOgL8AfCkUmoLgNb6DeAR4E3gl8CXtdYz5tu+BNyN0VF/AHjaPH4P0KSU2g/8DXBT1jIihBAizBUKpbyZF0IIIVKStbyEEEI4QgKKEEIIR0hAEUII4QgJKEIIIRyRb8OGhQOUUksxlqdpBULAv2qt71JKNQIPAycD7wKXa60HcpXOTDPXgdsBdGitLynB/NdjjIw8C+N78OeApkSugVLqK8BfYOT9NeDPgEqKNP9KqXuBS4BurfVZ5rGE3/lEC/EuhNRQitM08FWt9RnAhcCXzYU3bwKe11qvAJ6n+IdYXwfstf1cavm/C/il1vo04ByMa1ES10Ap1Q5cC5xnFq5ujIVnizn/93F80VxL3PymWIh33iSgFCGtdafWepf5eBijIGknciHNjRxfYLPoKKWWAH+CcYduKaX81wEfwpinhdZ6Ums9SAldA4wWmApzBY1K4ChFnH+t9UtAf9ThRPmNuxDvQtMgAaXIKaVOBlZhrDDQqrXuNJ86htEkVqx+CPwtMGs7Vkr5Xwb0AD9TSr2ilLpbKVVFiVwDrXUH8A/AYaATGNJaP0OJ5N8mUX7Di+qa7AvuzpsElCKmlKoGHgOu11oH7M+Zy9MU5axWpZTVjrwz0WuKOf8mD3Au8FOt9SpglKjmnWK+BkqpBoy78GUYyzhVKaWutL+mmPMfTzbyKwGlSCmlyjGCyQNa68fNw13m3jKY/3fnKn0Z9gHgT5VS7wKbgY8qpX5O6eQfjDvOI1rrrebPj2IEmFK5Bh8HDmqte7TWU8DjwB9SOvm3JMpvooV4F0QCShEyNxi7B9irtb7T9pS1kCbm/znfRiATtNY3a62XaK1Pxuh4fEFrfSUlkn8ArfUx4D2llDIPfQxjjbxSuQaHgQuVUpXm38PHMPoSSyX/lkT5fQK4QinlU0otw1yId6EfJmt5FSGl1AeB32AMlbT6EL6O0Y/yCHAicAhjCGF0J15RUUp9BPiaOWy4iRLKv1JqJcagBC/wDsaw2TJK5Boopf4e+BzGqMdXMIYQV1Ok+VdKPQR8BGgGuoBvAf9BgvwqpW7BGEo+jdEs/nSc086JBBQhhBCOkCYvIYQQjpCAIoQQwhESUIQQQjhCAooQQghHSEARQgjhCFltWJQ8pdRWwIcxvPZU4HXzqVe01n+Ws4TNgVLqXOB9WutHc50WUbokoIiSp7W+AMLrnu3QWq/MbYpiKaU8WuvpJC85F2N2+JwDShrnFiItMg9FCJMtoDTbjv058L8wbr4GgP+ltd6nlPoL4DJgBGO/kfeA6zEWJFwOvAxs0FqHzGVfxszXtWAsI/7XWuspc1XgH2IsI+4HnsOYiDmrlPotsB34A4yFHi8D/hNoMl/7spm2Box9X2owJq+9CPwz8Fut9QlmPk6xfjYf/w54ALjIfO39wHeBP8Korb0K/G+t9ZgzV1eUAulDESIBc5b9p4EPaq3PxSj47cvhn4+xMdFpGJsU3Y8xM/tMYDXw4ajXXgycgbHMxTXm8buAZ7TWa4CVGGsqbbC972TgA1rr/wZMAVdorVcD7wcqMIJWN/BtYIvWeqXW+itpZG8R8Dut9Sqt9d3AzUCP1nqN1vocoBe4MY3zCBEmTV5CJPanGE1J28wlsVwYtQDLb7TWR83HrwAV1qrOSqk9wCnAr8znN2utR83nNmHs1fIv1mcopazCuxI4YPuMB7TWM+bjMuBGpdQnMTaMaiR2/4t0jWqtH4vKa6VS6grzZx+QcLVmIeKRgCJEYi6M7ZO/neD5oO3xTJyf0/n7cgGXaK0PJ3h+xPb4KoxNkD6otR5RSn0TY42meKaJbIHwJzmvlY6/NDdpEmJepMlLiMT+E9iglFoMxh71SqnV8zzX58yVb8uBK4EXzONPADdZ268qpVrM1V/jqQd6zWDSAKyzPRcA6mw/H8XYrfB95s+fT5G+J4CvKqX8ZjpqlVKnpZs5IUACihAJaa1fAP4eeFIptRtj9eZL5nm67Rgd7m9irPx7j3n8rzGar3YrpV4DngLaEpzjPqBJKfUWxiqy9trEs0C9Umq3UuoftdaTwFeB55VS24DJFOm7HWN59+1mc91LgAQUMScyykuIDDNHef1Wa/0vuU6LEJkkNRQhhBCOkBqKEEIIR0gNRQghhCMkoAghhHCEBBQhhBCOkIAihBDCERJQhBBCOEICihBCCEf8f5vm6s9hWzMxAAAAAElFTkSuQmCC\n",
          "text/plain": "<matplotlib.figure.Figure at 0x7f05a985f410>"
         },
         "metadata": {},
         "output_type": "display_data"
        }
       ]
      }
     },
     "a5164f01a4084c5e9d7f457932240818": {
      "model_module": "@jupyter-widgets/base",
      "model_module_version": "1.0.0",
      "model_name": "LayoutModel",
      "state": {}
     },
     "a8650f54e5124e18b28c0ff4698ba135": {
      "model_module": "@jupyter-widgets/controls",
      "model_module_version": "1.0.0",
      "model_name": "DropdownModel",
      "state": {
       "_options_labels": [
        "Store_ID",
        "Fiscal_Qtr",
        "DateStringYYYYMMDD",
        "Fiscal_dayofWk",
        "Daypart",
        "HourlyWeather",
        "Hour",
        "AvgHourlyTemp",
        "SalesRevenue"
       ],
       "description": "column",
       "index": 0,
       "layout": "IPY_MODEL_5ba9fcf8314144b6a2d97eb0fc1fe78d",
       "style": "IPY_MODEL_1245cdd99f2f45758679dfc077a42f8d"
      }
     },
     "ae0cdcb45a22494aa5fb7e08239e395b": {
      "model_module": "@jupyter-widgets/base",
      "model_module_version": "1.0.0",
      "model_name": "LayoutModel",
      "state": {}
     },
     "af1254cb927d4d01a99425aef7116584": {
      "model_module": "@jupyter-widgets/base",
      "model_module_version": "1.0.0",
      "model_name": "LayoutModel",
      "state": {}
     },
     "b0d99913369a461f97ae03def234874b": {
      "model_module": "@jupyter-widgets/controls",
      "model_module_version": "1.0.0",
      "model_name": "VBoxModel",
      "state": {
       "_dom_classes": [
        "widget-interact"
       ],
       "children": [
        "IPY_MODEL_ccc9be610afd4a30930f22cafa764774",
        "IPY_MODEL_64427f2aa3664c608e32f053e1b39290"
       ],
       "layout": "IPY_MODEL_8900a84fbfca4acda0cd6a29c8b9ab50"
      }
     },
     "b1fce347415044ad9129057bf48fc8b4": {
      "model_module": "@jupyter-widgets/controls",
      "model_module_version": "1.0.0",
      "model_name": "VBoxModel",
      "state": {
       "_dom_classes": [
        "widget-interact"
       ],
       "children": [
        "IPY_MODEL_68f1e2461c7d4496b61f3ed85c972e87",
        "IPY_MODEL_cb29df2755294ab4897158f5d249f1b8"
       ],
       "layout": "IPY_MODEL_99b0dbf6c79245e6b2b0e21fd78ff8d8"
      }
     },
     "b837e3ab5fb2440fa454b82b07d39d07": {
      "model_module": "@jupyter-widgets/output",
      "model_module_version": "1.0.0",
      "model_name": "OutputModel",
      "state": {
       "layout": "IPY_MODEL_c7bbf480056048918ddc5ea50a914a2c",
       "outputs": [
        {
         "ename": "NameError",
         "evalue": "global name 'sales' is not defined",
         "output_type": "error",
         "traceback": [
          "\u001b[0;31m---------------------------------------------------------------------------\u001b[0m",
          "\u001b[0;31mNameError\u001b[0m                                 Traceback (most recent call last)",
          "\u001b[0;32m/opt/conda/lib/python2.7/site-packages/ipywidgets/widgets/interaction.pyc\u001b[0m in \u001b[0;36mupdate\u001b[0;34m(self, *args)\u001b[0m\n\u001b[1;32m    248\u001b[0m                     \u001b[0mvalue\u001b[0m \u001b[0;34m=\u001b[0m \u001b[0mwidget\u001b[0m\u001b[0;34m.\u001b[0m\u001b[0mget_interact_value\u001b[0m\u001b[0;34m(\u001b[0m\u001b[0;34m)\u001b[0m\u001b[0;34m\u001b[0m\u001b[0m\n\u001b[1;32m    249\u001b[0m                     \u001b[0mself\u001b[0m\u001b[0;34m.\u001b[0m\u001b[0mkwargs\u001b[0m\u001b[0;34m[\u001b[0m\u001b[0mwidget\u001b[0m\u001b[0;34m.\u001b[0m\u001b[0m_kwarg\u001b[0m\u001b[0;34m]\u001b[0m \u001b[0;34m=\u001b[0m \u001b[0mvalue\u001b[0m\u001b[0;34m\u001b[0m\u001b[0m\n\u001b[0;32m--> 250\u001b[0;31m                 \u001b[0mself\u001b[0m\u001b[0;34m.\u001b[0m\u001b[0mresult\u001b[0m \u001b[0;34m=\u001b[0m \u001b[0mself\u001b[0m\u001b[0;34m.\u001b[0m\u001b[0mf\u001b[0m\u001b[0;34m(\u001b[0m\u001b[0;34m**\u001b[0m\u001b[0mself\u001b[0m\u001b[0;34m.\u001b[0m\u001b[0mkwargs\u001b[0m\u001b[0;34m)\u001b[0m\u001b[0;34m\u001b[0m\u001b[0m\n\u001b[0m\u001b[1;32m    251\u001b[0m                 \u001b[0mshow_inline_matplotlib_plots\u001b[0m\u001b[0;34m(\u001b[0m\u001b[0;34m)\u001b[0m\u001b[0;34m\u001b[0m\u001b[0m\n\u001b[1;32m    252\u001b[0m                 \u001b[0;32mif\u001b[0m \u001b[0mself\u001b[0m\u001b[0;34m.\u001b[0m\u001b[0mauto_display\u001b[0m \u001b[0;32mand\u001b[0m \u001b[0mself\u001b[0m\u001b[0;34m.\u001b[0m\u001b[0mresult\u001b[0m \u001b[0;32mis\u001b[0m \u001b[0;32mnot\u001b[0m \u001b[0mNone\u001b[0m\u001b[0;34m:\u001b[0m\u001b[0;34m\u001b[0m\u001b[0m\n",
          "\u001b[0;32m<ipython-input-70-01c044f544a0>\u001b[0m in \u001b[0;36msales_plot\u001b[0;34m(column)\u001b[0m\n\u001b[1;32m      2\u001b[0m \u001b[0;34m\u001b[0m\u001b[0m\n\u001b[1;32m      3\u001b[0m \u001b[0;32mdef\u001b[0m \u001b[0msales_plot\u001b[0m\u001b[0;34m(\u001b[0m\u001b[0mcolumn\u001b[0m\u001b[0;34m)\u001b[0m\u001b[0;34m:\u001b[0m\u001b[0;34m\u001b[0m\u001b[0m\n\u001b[0;32m----> 4\u001b[0;31m     \u001b[0mplt\u001b[0m\u001b[0;34m.\u001b[0m\u001b[0mplot\u001b[0m\u001b[0;34m(\u001b[0m\u001b[0mdata\u001b[0m\u001b[0;34m[\u001b[0m\u001b[0mcolumn\u001b[0m\u001b[0;34m]\u001b[0m\u001b[0;34m,\u001b[0m \u001b[0msales\u001b[0m\u001b[0;34m,\u001b[0m \u001b[0;34m'.'\u001b[0m\u001b[0;34m)\u001b[0m\u001b[0;34m\u001b[0m\u001b[0m\n\u001b[0m\u001b[1;32m      5\u001b[0m     \u001b[0mplt\u001b[0m\u001b[0;34m.\u001b[0m\u001b[0mxlabel\u001b[0m\u001b[0;34m(\u001b[0m\u001b[0mdata_dict\u001b[0m\u001b[0;34m[\u001b[0m\u001b[0mcolumn\u001b[0m\u001b[0;34m]\u001b[0m\u001b[0;34m)\u001b[0m\u001b[0;34m\u001b[0m\u001b[0m\n\u001b[1;32m      6\u001b[0m     \u001b[0mplt\u001b[0m\u001b[0;34m.\u001b[0m\u001b[0mylabel\u001b[0m\u001b[0;34m(\u001b[0m\u001b[0;34m'Sales'\u001b[0m\u001b[0;34m)\u001b[0m\u001b[0;34m\u001b[0m\u001b[0m\n",
          "\u001b[0;31mNameError\u001b[0m: global name 'sales' is not defined"
         ]
        }
       ]
      }
     },
     "bab96bea744742b69f4fed3f11f06423": {
      "model_module": "@jupyter-widgets/base",
      "model_module_version": "1.0.0",
      "model_name": "LayoutModel",
      "state": {}
     },
     "bd3a379247c34ff4a108137467a26e30": {
      "model_module": "@jupyter-widgets/output",
      "model_module_version": "1.0.0",
      "model_name": "OutputModel",
      "state": {
       "layout": "IPY_MODEL_84aae73431194726a492e2613830455b",
       "outputs": [
        {
         "ename": "KeyError",
         "evalue": "'SalesRevenue'",
         "output_type": "error",
         "traceback": [
          "\u001b[0;31m---------------------------------------------------------------------------\u001b[0m",
          "\u001b[0;31mKeyError\u001b[0m                                  Traceback (most recent call last)",
          "\u001b[0;32m/opt/conda/lib/python2.7/site-packages/ipywidgets/widgets/interaction.pyc\u001b[0m in \u001b[0;36mupdate\u001b[0;34m(self, *args)\u001b[0m\n\u001b[1;32m    248\u001b[0m                     \u001b[0mvalue\u001b[0m \u001b[0;34m=\u001b[0m \u001b[0mwidget\u001b[0m\u001b[0;34m.\u001b[0m\u001b[0mget_interact_value\u001b[0m\u001b[0;34m(\u001b[0m\u001b[0;34m)\u001b[0m\u001b[0;34m\u001b[0m\u001b[0m\n\u001b[1;32m    249\u001b[0m                     \u001b[0mself\u001b[0m\u001b[0;34m.\u001b[0m\u001b[0mkwargs\u001b[0m\u001b[0;34m[\u001b[0m\u001b[0mwidget\u001b[0m\u001b[0;34m.\u001b[0m\u001b[0m_kwarg\u001b[0m\u001b[0;34m]\u001b[0m \u001b[0;34m=\u001b[0m \u001b[0mvalue\u001b[0m\u001b[0;34m\u001b[0m\u001b[0m\n\u001b[0;32m--> 250\u001b[0;31m                 \u001b[0mself\u001b[0m\u001b[0;34m.\u001b[0m\u001b[0mresult\u001b[0m \u001b[0;34m=\u001b[0m \u001b[0mself\u001b[0m\u001b[0;34m.\u001b[0m\u001b[0mf\u001b[0m\u001b[0;34m(\u001b[0m\u001b[0;34m**\u001b[0m\u001b[0mself\u001b[0m\u001b[0;34m.\u001b[0m\u001b[0mkwargs\u001b[0m\u001b[0;34m)\u001b[0m\u001b[0;34m\u001b[0m\u001b[0m\n\u001b[0m\u001b[1;32m    251\u001b[0m                 \u001b[0mshow_inline_matplotlib_plots\u001b[0m\u001b[0;34m(\u001b[0m\u001b[0;34m)\u001b[0m\u001b[0;34m\u001b[0m\u001b[0m\n\u001b[1;32m    252\u001b[0m                 \u001b[0;32mif\u001b[0m \u001b[0mself\u001b[0m\u001b[0;34m.\u001b[0m\u001b[0mauto_display\u001b[0m \u001b[0;32mand\u001b[0m \u001b[0mself\u001b[0m\u001b[0;34m.\u001b[0m\u001b[0mresult\u001b[0m \u001b[0;32mis\u001b[0m \u001b[0;32mnot\u001b[0m \u001b[0mNone\u001b[0m\u001b[0;34m:\u001b[0m\u001b[0;34m\u001b[0m\u001b[0m\n",
          "\u001b[0;32m<ipython-input-72-ec02ad97b5b7>\u001b[0m in \u001b[0;36msales_plot\u001b[0;34m(column)\u001b[0m\n\u001b[1;32m      3\u001b[0m \u001b[0;32mdef\u001b[0m \u001b[0msales_plot\u001b[0m\u001b[0;34m(\u001b[0m\u001b[0mcolumn\u001b[0m\u001b[0;34m)\u001b[0m\u001b[0;34m:\u001b[0m\u001b[0;34m\u001b[0m\u001b[0m\n\u001b[1;32m      4\u001b[0m     \u001b[0mplt\u001b[0m\u001b[0;34m.\u001b[0m\u001b[0mplot\u001b[0m\u001b[0;34m(\u001b[0m\u001b[0mdata\u001b[0m\u001b[0;34m[\u001b[0m\u001b[0mcolumn\u001b[0m\u001b[0;34m]\u001b[0m\u001b[0;34m,\u001b[0m \u001b[0msales\u001b[0m\u001b[0;34m,\u001b[0m \u001b[0;34m'.'\u001b[0m\u001b[0;34m)\u001b[0m\u001b[0;34m\u001b[0m\u001b[0m\n\u001b[0;32m----> 5\u001b[0;31m     \u001b[0mplt\u001b[0m\u001b[0;34m.\u001b[0m\u001b[0mxlabel\u001b[0m\u001b[0;34m(\u001b[0m\u001b[0mdata_dict\u001b[0m\u001b[0;34m[\u001b[0m\u001b[0mcolumn\u001b[0m\u001b[0;34m]\u001b[0m\u001b[0;34m)\u001b[0m\u001b[0;34m\u001b[0m\u001b[0m\n\u001b[0m\u001b[1;32m      6\u001b[0m     \u001b[0mplt\u001b[0m\u001b[0;34m.\u001b[0m\u001b[0mylabel\u001b[0m\u001b[0;34m(\u001b[0m\u001b[0;34m'Sales'\u001b[0m\u001b[0;34m)\u001b[0m\u001b[0;34m\u001b[0m\u001b[0m\n\u001b[1;32m      7\u001b[0m \u001b[0;34m\u001b[0m\u001b[0m\n",
          "\u001b[0;31mKeyError\u001b[0m: 'SalesRevenue'"
         ]
        }
       ]
      }
     },
     "c09b32bd5c184e81877f0e19a1d57a65": {
      "model_module": "@jupyter-widgets/base",
      "model_module_version": "1.0.0",
      "model_name": "LayoutModel",
      "state": {}
     },
     "c0f29835abf5448c957b9bab194d8627": {
      "model_module": "@jupyter-widgets/controls",
      "model_module_version": "1.0.0",
      "model_name": "VBoxModel",
      "state": {
       "_dom_classes": [
        "widget-interact"
       ],
       "children": [
        "IPY_MODEL_6edb40c7cdb0479ba23a0bd7cd657620",
        "IPY_MODEL_5aa735cf0b08458786ed9e8afed26593"
       ],
       "layout": "IPY_MODEL_9fb6a25c837b4a5d81c4daf8f253f26f"
      }
     },
     "c1e9d041bfdd42acbec90e32b3ec3dd5": {
      "model_module": "@jupyter-widgets/base",
      "model_module_version": "1.0.0",
      "model_name": "LayoutModel",
      "state": {}
     },
     "c33998d2fcec4885a8f0b51504feca7b": {
      "model_module": "@jupyter-widgets/base",
      "model_module_version": "1.0.0",
      "model_name": "LayoutModel",
      "state": {}
     },
     "c45e890bbad14fe2b792546527ed45b1": {
      "model_module": "@jupyter-widgets/base",
      "model_module_version": "1.0.0",
      "model_name": "LayoutModel",
      "state": {}
     },
     "c5834fabda2745738f47a97963f918ac": {
      "model_module": "@jupyter-widgets/base",
      "model_module_version": "1.0.0",
      "model_name": "LayoutModel",
      "state": {}
     },
     "c7bbf480056048918ddc5ea50a914a2c": {
      "model_module": "@jupyter-widgets/base",
      "model_module_version": "1.0.0",
      "model_name": "LayoutModel",
      "state": {}
     },
     "cade3fd0034043a1a7914bfb09a64f56": {
      "model_module": "@jupyter-widgets/controls",
      "model_module_version": "1.0.0",
      "model_name": "DescriptionStyleModel",
      "state": {
       "description_width": ""
      }
     },
     "cb29df2755294ab4897158f5d249f1b8": {
      "model_module": "@jupyter-widgets/output",
      "model_module_version": "1.0.0",
      "model_name": "OutputModel",
      "state": {
       "layout": "IPY_MODEL_94a9880f2e90447d8bb99d95bf5b0af0",
       "outputs": [
        {
         "data": {
          "image/png": "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\n",
          "text/plain": "<matplotlib.figure.Figure at 0x7f05a2321550>"
         },
         "metadata": {},
         "output_type": "display_data"
        }
       ]
      }
     },
     "cb7610d3b40d4c57a9da17fb9f340cd7": {
      "model_module": "@jupyter-widgets/controls",
      "model_module_version": "1.0.0",
      "model_name": "DropdownModel",
      "state": {
       "_options_labels": [
        "Store_ID",
        "Fiscal_Qtr",
        "DateStringYYYYMMDD",
        "Daypart",
        "HourlyWeather",
        "Hour",
        "AvgHourlyTemp"
       ],
       "description": "column",
       "index": 3,
       "layout": "IPY_MODEL_e678ffa793de495899a8344063774e65",
       "style": "IPY_MODEL_4d6dd6b917b0490b8610e38fe152fc4b"
      }
     },
     "ccc9be610afd4a30930f22cafa764774": {
      "model_module": "@jupyter-widgets/controls",
      "model_module_version": "1.0.0",
      "model_name": "DropdownModel",
      "state": {
       "_options_labels": [
        "Store_ID",
        "Fiscal_Qtr",
        "DateStringYYYYMMDD",
        "Fiscal_dayofWk",
        "Daypart",
        "HourlyWeather",
        "Hour",
        "AvgHourlyTemp",
        "SalesRevenue"
       ],
       "description": "column",
       "index": 7,
       "layout": "IPY_MODEL_9be1cf07f6dd4aaca2e6b4a1eca1a147",
       "style": "IPY_MODEL_06c60f5f91db47ad858ad79f98117b80"
      }
     },
     "d8f0da782522453f9558663ec87f87b7": {
      "model_module": "@jupyter-widgets/controls",
      "model_module_version": "1.0.0",
      "model_name": "VBoxModel",
      "state": {
       "_dom_classes": [
        "widget-interact"
       ],
       "children": [
        "IPY_MODEL_6cbec5768e814b3182687aabd8c60323",
        "IPY_MODEL_65bf591ead5e4adfb6cc19f33abf79eb"
       ],
       "layout": "IPY_MODEL_6bb088765365492098eadd3daefe7224"
      }
     },
     "d96f6ff243834b7c99439bf8d3887b44": {
      "model_module": "@jupyter-widgets/base",
      "model_module_version": "1.0.0",
      "model_name": "LayoutModel",
      "state": {}
     },
     "e0ac3b597c2f4fb897c6a2442e788e2e": {
      "model_module": "@jupyter-widgets/controls",
      "model_module_version": "1.0.0",
      "model_name": "DescriptionStyleModel",
      "state": {
       "description_width": ""
      }
     },
     "e101576b671b455c95d66da5fd103944": {
      "model_module": "@jupyter-widgets/base",
      "model_module_version": "1.0.0",
      "model_name": "LayoutModel",
      "state": {}
     },
     "e5c7230a54154a4593b503d5b5823ac1": {
      "model_module": "@jupyter-widgets/controls",
      "model_module_version": "1.0.0",
      "model_name": "DescriptionStyleModel",
      "state": {
       "description_width": ""
      }
     },
     "e678ffa793de495899a8344063774e65": {
      "model_module": "@jupyter-widgets/base",
      "model_module_version": "1.0.0",
      "model_name": "LayoutModel",
      "state": {}
     },
     "eb355b9651604075ad4fc1633268d019": {
      "model_module": "@jupyter-widgets/base",
      "model_module_version": "1.0.0",
      "model_name": "LayoutModel",
      "state": {}
     },
     "ec89054c59c94640bb0e909bf8ce3a50": {
      "model_module": "@jupyter-widgets/controls",
      "model_module_version": "1.0.0",
      "model_name": "VBoxModel",
      "state": {
       "_dom_classes": [
        "widget-interact"
       ],
       "children": [
        "IPY_MODEL_20d24018879d4e3790e9e437318a0583",
        "IPY_MODEL_45b295d8d1884e438bd7ac97260c6017"
       ],
       "layout": "IPY_MODEL_c33998d2fcec4885a8f0b51504feca7b"
      }
     },
     "ed908cacd5ed424bb694e229d0ed673e": {
      "model_module": "@jupyter-widgets/base",
      "model_module_version": "1.0.0",
      "model_name": "LayoutModel",
      "state": {}
     },
     "ee45b9410b6b4066816c6ad0f79d8325": {
      "model_module": "@jupyter-widgets/base",
      "model_module_version": "1.0.0",
      "model_name": "LayoutModel",
      "state": {}
     },
     "f126d1cbd9ea410bbfff4283f14e9c7d": {
      "model_module": "@jupyter-widgets/base",
      "model_module_version": "1.0.0",
      "model_name": "LayoutModel",
      "state": {}
     },
     "f511ee6cb6114d8da657a6ca5eee7355": {
      "model_module": "@jupyter-widgets/output",
      "model_module_version": "1.0.0",
      "model_name": "OutputModel",
      "state": {
       "layout": "IPY_MODEL_7a2ceb73973c49a68d32ffee175c68a2",
       "outputs": [
        {
         "ename": "NameError",
         "evalue": "global name 'plt' is not defined",
         "output_type": "error",
         "traceback": [
          "\u001b[0;31m---------------------------------------------------------------------------\u001b[0m",
          "\u001b[0;31mNameError\u001b[0m                                 Traceback (most recent call last)",
          "\u001b[0;32m/opt/conda/lib/python2.7/site-packages/ipywidgets/widgets/interaction.pyc\u001b[0m in \u001b[0;36mupdate\u001b[0;34m(self, *args)\u001b[0m\n\u001b[1;32m    248\u001b[0m                     \u001b[0mvalue\u001b[0m \u001b[0;34m=\u001b[0m \u001b[0mwidget\u001b[0m\u001b[0;34m.\u001b[0m\u001b[0mget_interact_value\u001b[0m\u001b[0;34m(\u001b[0m\u001b[0;34m)\u001b[0m\u001b[0;34m\u001b[0m\u001b[0m\n\u001b[1;32m    249\u001b[0m                     \u001b[0mself\u001b[0m\u001b[0;34m.\u001b[0m\u001b[0mkwargs\u001b[0m\u001b[0;34m[\u001b[0m\u001b[0mwidget\u001b[0m\u001b[0;34m.\u001b[0m\u001b[0m_kwarg\u001b[0m\u001b[0;34m]\u001b[0m \u001b[0;34m=\u001b[0m \u001b[0mvalue\u001b[0m\u001b[0;34m\u001b[0m\u001b[0m\n\u001b[0;32m--> 250\u001b[0;31m                 \u001b[0mself\u001b[0m\u001b[0;34m.\u001b[0m\u001b[0mresult\u001b[0m \u001b[0;34m=\u001b[0m \u001b[0mself\u001b[0m\u001b[0;34m.\u001b[0m\u001b[0mf\u001b[0m\u001b[0;34m(\u001b[0m\u001b[0;34m**\u001b[0m\u001b[0mself\u001b[0m\u001b[0;34m.\u001b[0m\u001b[0mkwargs\u001b[0m\u001b[0;34m)\u001b[0m\u001b[0;34m\u001b[0m\u001b[0m\n\u001b[0m\u001b[1;32m    251\u001b[0m                 \u001b[0mshow_inline_matplotlib_plots\u001b[0m\u001b[0;34m(\u001b[0m\u001b[0;34m)\u001b[0m\u001b[0;34m\u001b[0m\u001b[0m\n\u001b[1;32m    252\u001b[0m                 \u001b[0;32mif\u001b[0m \u001b[0mself\u001b[0m\u001b[0;34m.\u001b[0m\u001b[0mauto_display\u001b[0m \u001b[0;32mand\u001b[0m \u001b[0mself\u001b[0m\u001b[0;34m.\u001b[0m\u001b[0mresult\u001b[0m \u001b[0;32mis\u001b[0m \u001b[0;32mnot\u001b[0m \u001b[0mNone\u001b[0m\u001b[0;34m:\u001b[0m\u001b[0;34m\u001b[0m\u001b[0m\n",
          "\u001b[0;32m<ipython-input-66-f2fa103b83e9>\u001b[0m in \u001b[0;36msales_plot\u001b[0;34m(column)\u001b[0m\n\u001b[1;32m      2\u001b[0m \u001b[0;34m\u001b[0m\u001b[0m\n\u001b[1;32m      3\u001b[0m \u001b[0;32mdef\u001b[0m \u001b[0msales_plot\u001b[0m\u001b[0;34m(\u001b[0m\u001b[0mcolumn\u001b[0m\u001b[0;34m)\u001b[0m\u001b[0;34m:\u001b[0m\u001b[0;34m\u001b[0m\u001b[0m\n\u001b[0;32m----> 4\u001b[0;31m     \u001b[0mplt\u001b[0m\u001b[0;34m.\u001b[0m\u001b[0mplot\u001b[0m\u001b[0;34m(\u001b[0m\u001b[0mX\u001b[0m\u001b[0;34m[\u001b[0m\u001b[0mcolumn\u001b[0m\u001b[0;34m]\u001b[0m\u001b[0;34m,\u001b[0m \u001b[0msales\u001b[0m\u001b[0;34m,\u001b[0m \u001b[0;34m'.'\u001b[0m\u001b[0;34m)\u001b[0m\u001b[0;34m\u001b[0m\u001b[0m\n\u001b[0m\u001b[1;32m      5\u001b[0m     \u001b[0mplt\u001b[0m\u001b[0;34m.\u001b[0m\u001b[0mxlabel\u001b[0m\u001b[0;34m(\u001b[0m\u001b[0mdata_dict\u001b[0m\u001b[0;34m[\u001b[0m\u001b[0mcolumn\u001b[0m\u001b[0;34m]\u001b[0m\u001b[0;34m)\u001b[0m\u001b[0;34m\u001b[0m\u001b[0m\n\u001b[1;32m      6\u001b[0m     \u001b[0mplt\u001b[0m\u001b[0;34m.\u001b[0m\u001b[0mylabel\u001b[0m\u001b[0;34m(\u001b[0m\u001b[0;34m'Sales'\u001b[0m\u001b[0;34m)\u001b[0m\u001b[0;34m\u001b[0m\u001b[0m\n",
          "\u001b[0;31mNameError\u001b[0m: global name 'plt' is not defined"
         ]
        }
       ]
      }
     },
     "f530285142d74baeb02cb6ea372296bb": {
      "model_module": "@jupyter-widgets/base",
      "model_module_version": "1.0.0",
      "model_name": "LayoutModel",
      "state": {}
     },
     "f791cd089f064189a242fd476cf3e5fa": {
      "model_module": "@jupyter-widgets/base",
      "model_module_version": "1.0.0",
      "model_name": "LayoutModel",
      "state": {}
     },
     "fcefbfb9344545cf91032bad71788d64": {
      "model_module": "@jupyter-widgets/base",
      "model_module_version": "1.0.0",
      "model_name": "LayoutModel",
      "state": {}
     }
    },
    "version_major": 2,
    "version_minor": 0
   }
  }
 },
 "nbformat": 4,
 "nbformat_minor": 2
}
